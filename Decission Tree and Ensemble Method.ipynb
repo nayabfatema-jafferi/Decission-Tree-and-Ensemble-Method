{
  "cells": [
    {
      "cell_type": "code",
      "execution_count": null,
      "metadata": {
        "id": "Fd5i9CtTSsnX"
      },
      "outputs": [],
      "source": [
        "#import all the required libraries\n",
        "import pandas as pd #for dataFrames\n",
        "import numpy as np  #for performing numerical applications\n",
        "import seaborn as sb #for graphs\n",
        "from matplotlib import pyplot as plt #for graphical presentation\n",
        "from sklearn import metrics #to use accuracy, recall, precission, etc matrix\n",
        "from sklearn.tree import DecisionTreeClassifier #for using Decission Tree algorithm\n",
        "from sklearn.preprocessing import LabelEncoder #for performing Label encoding on categorical variables\n",
        "from sklearn.linear_model import LogisticRegression #for perfrming Logistic Regression\n",
        "from sklearn.model_selection import train_test_split #for splitting the data set into train and test\n",
        "from sklearn.ensemble import RandomForestClassifier #for Random Forest Algorithm\n",
        "from sklearn.ensemble import GradientBoostingClassifier #For using grdient Boost\n",
        "from sklearn.ensemble import BaggingClassifier #For using Bagging\n",
        "from sklearn.ensemble import AdaBoostClassifier #For using Adaboost\n",
        "from sklearn.preprocessing import StandardScaler  #for scaling the data using z-score\n",
        "from sklearn.preprocessing import MinMaxScaler #for scaling the data using minimum and max values\n",
        "from sklearn.model_selection import GridSearchCV #for findging optimal values for hyperparameter tuning\n",
        "from sklearn.metrics import accuracy_score , roc_auc_score , roc_curve , classification_report , confusion_matrix #calling all accuracy score matrix\n",
        "from imblearn.over_sampling import SMOTE #for balancing the data set"
      ]
    },
    {
      "cell_type": "markdown",
      "metadata": {
        "id": "U_TEq_fzzBv8"
      },
      "source": [
        "**1. DATA UNDERSTANDING**"
      ]
    },
    {
      "cell_type": "markdown",
      "metadata": {
        "id": "ukoFuqxoS3mc"
      },
      "source": [
        "Load the files"
      ]
    },
    {
      "cell_type": "code",
      "execution_count": null,
      "metadata": {
        "id": "KFGNIVa5UVp5"
      },
      "outputs": [],
      "source": [
        "file1 = pd.read_csv(\"TelcomCustomer-Churn_1.csv\")\n",
        "file2 = pd.read_csv(\"TelcomCustomer-Churn_2.csv\")"
      ]
    },
    {
      "cell_type": "code",
      "execution_count": null,
      "metadata": {
        "colab": {
          "base_uri": "https://localhost:8080/"
        },
        "id": "-2KRqw7UUmV4",
        "outputId": "fba7d4ce-2d2c-4234-e4d9-d917daf3a9eb"
      },
      "outputs": [
        {
          "output_type": "stream",
          "name": "stdout",
          "text": [
            "   customerID  gender  SeniorCitizen Partner Dependents  tenure PhoneService  \\\n",
            "0  7590-VHVEG  Female              0     Yes         No       1           No   \n",
            "1  5575-GNVDE    Male              0      No         No      34          Yes   \n",
            "2  3668-QPYBK    Male              0      No         No       2          Yes   \n",
            "3  7795-CFOCW    Male              0      No         No      45           No   \n",
            "4  9237-HQITU  Female              0      No         No       2          Yes   \n",
            "\n",
            "      MultipleLines InternetService OnlineSecurity  \n",
            "0  No phone service             DSL             No  \n",
            "1                No             DSL            Yes  \n",
            "2                No             DSL            Yes  \n",
            "3  No phone service             DSL            Yes  \n",
            "4                No     Fiber optic             No  \n",
            "   customerID OnlineBackup DeviceProtection TechSupport StreamingTV  \\\n",
            "0  7590-VHVEG          Yes               No          No          No   \n",
            "1  5575-GNVDE           No              Yes          No          No   \n",
            "2  3668-QPYBK          Yes               No          No          No   \n",
            "3  7795-CFOCW           No              Yes         Yes          No   \n",
            "4  9237-HQITU           No               No          No          No   \n",
            "\n",
            "  StreamingMovies        Contract PaperlessBilling              PaymentMethod  \\\n",
            "0              No  Month-to-month              Yes           Electronic check   \n",
            "1              No        One year               No               Mailed check   \n",
            "2              No  Month-to-month              Yes               Mailed check   \n",
            "3              No        One year               No  Bank transfer (automatic)   \n",
            "4              No  Month-to-month              Yes           Electronic check   \n",
            "\n",
            "   MonthlyCharges TotalCharges Churn  \n",
            "0           29.85        29.85    No  \n",
            "1           56.95       1889.5    No  \n",
            "2           53.85       108.15   Yes  \n",
            "3           42.30      1840.75    No  \n",
            "4           70.70       151.65   Yes  \n"
          ]
        }
      ],
      "source": [
        "print(file1.head())\n",
        "print(file2.head())\n"
      ]
    },
    {
      "cell_type": "code",
      "execution_count": null,
      "metadata": {
        "colab": {
          "base_uri": "https://localhost:8080/"
        },
        "id": "UQsobz0wUzV1",
        "outputId": "abef8ce8-96fa-4499-ac1b-ae78e26f0586"
      },
      "outputs": [
        {
          "output_type": "stream",
          "name": "stdout",
          "text": [
            "Index(['customerID', 'gender', 'SeniorCitizen', 'Partner', 'Dependents',\n",
            "       'tenure', 'PhoneService', 'MultipleLines', 'InternetService',\n",
            "       'OnlineSecurity'],\n",
            "      dtype='object')\n",
            "Index(['customerID', 'OnlineBackup', 'DeviceProtection', 'TechSupport',\n",
            "       'StreamingTV', 'StreamingMovies', 'Contract', 'PaperlessBilling',\n",
            "       'PaymentMethod', 'MonthlyCharges', 'TotalCharges', 'Churn'],\n",
            "      dtype='object')\n"
          ]
        }
      ],
      "source": [
        "print(file1.columns)\n",
        "print(file2.columns)"
      ]
    },
    {
      "cell_type": "markdown",
      "metadata": {
        "id": "sIBhHCEZU0Kz"
      },
      "source": [
        "file 1 contains info about the gender of the customers, if they are a senior citixen or not, details about their partners and no of dependents, tenure (contract duration) with the telecom company, and details about the types of servies they have\n",
        "\n",
        "File2 contains info about the technical services that the customers use, their contract type, payment methods, monthly and total charges, and if the customer is likely to churn (i.e leave as a customer for next month)"
      ]
    },
    {
      "cell_type": "code",
      "execution_count": null,
      "metadata": {
        "colab": {
          "base_uri": "https://localhost:8080/",
          "height": 386
        },
        "id": "cRo22aUYVw0y",
        "outputId": "ed366ba4-6f2c-40e0-bceb-b00c0882e07a"
      },
      "outputs": [
        {
          "output_type": "execute_result",
          "data": {
            "text/plain": [
              "   customerID  gender  SeniorCitizen Partner Dependents  tenure PhoneService  \\\n",
              "0  7590-VHVEG  Female              0     Yes         No       1           No   \n",
              "1  5575-GNVDE    Male              0      No         No      34          Yes   \n",
              "2  3668-QPYBK    Male              0      No         No       2          Yes   \n",
              "3  7795-CFOCW    Male              0      No         No      45           No   \n",
              "4  9237-HQITU  Female              0      No         No       2          Yes   \n",
              "\n",
              "      MultipleLines InternetService OnlineSecurity  ... DeviceProtection  \\\n",
              "0  No phone service             DSL             No  ...               No   \n",
              "1                No             DSL            Yes  ...              Yes   \n",
              "2                No             DSL            Yes  ...               No   \n",
              "3  No phone service             DSL            Yes  ...              Yes   \n",
              "4                No     Fiber optic             No  ...               No   \n",
              "\n",
              "  TechSupport StreamingTV StreamingMovies        Contract PaperlessBilling  \\\n",
              "0          No          No              No  Month-to-month              Yes   \n",
              "1          No          No              No        One year               No   \n",
              "2          No          No              No  Month-to-month              Yes   \n",
              "3         Yes          No              No        One year               No   \n",
              "4          No          No              No  Month-to-month              Yes   \n",
              "\n",
              "               PaymentMethod MonthlyCharges  TotalCharges Churn  \n",
              "0           Electronic check          29.85         29.85    No  \n",
              "1               Mailed check          56.95        1889.5    No  \n",
              "2               Mailed check          53.85        108.15   Yes  \n",
              "3  Bank transfer (automatic)          42.30       1840.75    No  \n",
              "4           Electronic check          70.70        151.65   Yes  \n",
              "\n",
              "[5 rows x 21 columns]"
            ],
            "text/html": [
              "\n",
              "  <div id=\"df-32bbaf87-c223-43d9-9767-f60d2c6e8b67\">\n",
              "    <div class=\"colab-df-container\">\n",
              "      <div>\n",
              "<style scoped>\n",
              "    .dataframe tbody tr th:only-of-type {\n",
              "        vertical-align: middle;\n",
              "    }\n",
              "\n",
              "    .dataframe tbody tr th {\n",
              "        vertical-align: top;\n",
              "    }\n",
              "\n",
              "    .dataframe thead th {\n",
              "        text-align: right;\n",
              "    }\n",
              "</style>\n",
              "<table border=\"1\" class=\"dataframe\">\n",
              "  <thead>\n",
              "    <tr style=\"text-align: right;\">\n",
              "      <th></th>\n",
              "      <th>customerID</th>\n",
              "      <th>gender</th>\n",
              "      <th>SeniorCitizen</th>\n",
              "      <th>Partner</th>\n",
              "      <th>Dependents</th>\n",
              "      <th>tenure</th>\n",
              "      <th>PhoneService</th>\n",
              "      <th>MultipleLines</th>\n",
              "      <th>InternetService</th>\n",
              "      <th>OnlineSecurity</th>\n",
              "      <th>...</th>\n",
              "      <th>DeviceProtection</th>\n",
              "      <th>TechSupport</th>\n",
              "      <th>StreamingTV</th>\n",
              "      <th>StreamingMovies</th>\n",
              "      <th>Contract</th>\n",
              "      <th>PaperlessBilling</th>\n",
              "      <th>PaymentMethod</th>\n",
              "      <th>MonthlyCharges</th>\n",
              "      <th>TotalCharges</th>\n",
              "      <th>Churn</th>\n",
              "    </tr>\n",
              "  </thead>\n",
              "  <tbody>\n",
              "    <tr>\n",
              "      <th>0</th>\n",
              "      <td>7590-VHVEG</td>\n",
              "      <td>Female</td>\n",
              "      <td>0</td>\n",
              "      <td>Yes</td>\n",
              "      <td>No</td>\n",
              "      <td>1</td>\n",
              "      <td>No</td>\n",
              "      <td>No phone service</td>\n",
              "      <td>DSL</td>\n",
              "      <td>No</td>\n",
              "      <td>...</td>\n",
              "      <td>No</td>\n",
              "      <td>No</td>\n",
              "      <td>No</td>\n",
              "      <td>No</td>\n",
              "      <td>Month-to-month</td>\n",
              "      <td>Yes</td>\n",
              "      <td>Electronic check</td>\n",
              "      <td>29.85</td>\n",
              "      <td>29.85</td>\n",
              "      <td>No</td>\n",
              "    </tr>\n",
              "    <tr>\n",
              "      <th>1</th>\n",
              "      <td>5575-GNVDE</td>\n",
              "      <td>Male</td>\n",
              "      <td>0</td>\n",
              "      <td>No</td>\n",
              "      <td>No</td>\n",
              "      <td>34</td>\n",
              "      <td>Yes</td>\n",
              "      <td>No</td>\n",
              "      <td>DSL</td>\n",
              "      <td>Yes</td>\n",
              "      <td>...</td>\n",
              "      <td>Yes</td>\n",
              "      <td>No</td>\n",
              "      <td>No</td>\n",
              "      <td>No</td>\n",
              "      <td>One year</td>\n",
              "      <td>No</td>\n",
              "      <td>Mailed check</td>\n",
              "      <td>56.95</td>\n",
              "      <td>1889.5</td>\n",
              "      <td>No</td>\n",
              "    </tr>\n",
              "    <tr>\n",
              "      <th>2</th>\n",
              "      <td>3668-QPYBK</td>\n",
              "      <td>Male</td>\n",
              "      <td>0</td>\n",
              "      <td>No</td>\n",
              "      <td>No</td>\n",
              "      <td>2</td>\n",
              "      <td>Yes</td>\n",
              "      <td>No</td>\n",
              "      <td>DSL</td>\n",
              "      <td>Yes</td>\n",
              "      <td>...</td>\n",
              "      <td>No</td>\n",
              "      <td>No</td>\n",
              "      <td>No</td>\n",
              "      <td>No</td>\n",
              "      <td>Month-to-month</td>\n",
              "      <td>Yes</td>\n",
              "      <td>Mailed check</td>\n",
              "      <td>53.85</td>\n",
              "      <td>108.15</td>\n",
              "      <td>Yes</td>\n",
              "    </tr>\n",
              "    <tr>\n",
              "      <th>3</th>\n",
              "      <td>7795-CFOCW</td>\n",
              "      <td>Male</td>\n",
              "      <td>0</td>\n",
              "      <td>No</td>\n",
              "      <td>No</td>\n",
              "      <td>45</td>\n",
              "      <td>No</td>\n",
              "      <td>No phone service</td>\n",
              "      <td>DSL</td>\n",
              "      <td>Yes</td>\n",
              "      <td>...</td>\n",
              "      <td>Yes</td>\n",
              "      <td>Yes</td>\n",
              "      <td>No</td>\n",
              "      <td>No</td>\n",
              "      <td>One year</td>\n",
              "      <td>No</td>\n",
              "      <td>Bank transfer (automatic)</td>\n",
              "      <td>42.30</td>\n",
              "      <td>1840.75</td>\n",
              "      <td>No</td>\n",
              "    </tr>\n",
              "    <tr>\n",
              "      <th>4</th>\n",
              "      <td>9237-HQITU</td>\n",
              "      <td>Female</td>\n",
              "      <td>0</td>\n",
              "      <td>No</td>\n",
              "      <td>No</td>\n",
              "      <td>2</td>\n",
              "      <td>Yes</td>\n",
              "      <td>No</td>\n",
              "      <td>Fiber optic</td>\n",
              "      <td>No</td>\n",
              "      <td>...</td>\n",
              "      <td>No</td>\n",
              "      <td>No</td>\n",
              "      <td>No</td>\n",
              "      <td>No</td>\n",
              "      <td>Month-to-month</td>\n",
              "      <td>Yes</td>\n",
              "      <td>Electronic check</td>\n",
              "      <td>70.70</td>\n",
              "      <td>151.65</td>\n",
              "      <td>Yes</td>\n",
              "    </tr>\n",
              "  </tbody>\n",
              "</table>\n",
              "<p>5 rows × 21 columns</p>\n",
              "</div>\n",
              "      <button class=\"colab-df-convert\" onclick=\"convertToInteractive('df-32bbaf87-c223-43d9-9767-f60d2c6e8b67')\"\n",
              "              title=\"Convert this dataframe to an interactive table.\"\n",
              "              style=\"display:none;\">\n",
              "        \n",
              "  <svg xmlns=\"http://www.w3.org/2000/svg\" height=\"24px\"viewBox=\"0 0 24 24\"\n",
              "       width=\"24px\">\n",
              "    <path d=\"M0 0h24v24H0V0z\" fill=\"none\"/>\n",
              "    <path d=\"M18.56 5.44l.94 2.06.94-2.06 2.06-.94-2.06-.94-.94-2.06-.94 2.06-2.06.94zm-11 1L8.5 8.5l.94-2.06 2.06-.94-2.06-.94L8.5 2.5l-.94 2.06-2.06.94zm10 10l.94 2.06.94-2.06 2.06-.94-2.06-.94-.94-2.06-.94 2.06-2.06.94z\"/><path d=\"M17.41 7.96l-1.37-1.37c-.4-.4-.92-.59-1.43-.59-.52 0-1.04.2-1.43.59L10.3 9.45l-7.72 7.72c-.78.78-.78 2.05 0 2.83L4 21.41c.39.39.9.59 1.41.59.51 0 1.02-.2 1.41-.59l7.78-7.78 2.81-2.81c.8-.78.8-2.07 0-2.86zM5.41 20L4 18.59l7.72-7.72 1.47 1.35L5.41 20z\"/>\n",
              "  </svg>\n",
              "      </button>\n",
              "      \n",
              "  <style>\n",
              "    .colab-df-container {\n",
              "      display:flex;\n",
              "      flex-wrap:wrap;\n",
              "      gap: 12px;\n",
              "    }\n",
              "\n",
              "    .colab-df-convert {\n",
              "      background-color: #E8F0FE;\n",
              "      border: none;\n",
              "      border-radius: 50%;\n",
              "      cursor: pointer;\n",
              "      display: none;\n",
              "      fill: #1967D2;\n",
              "      height: 32px;\n",
              "      padding: 0 0 0 0;\n",
              "      width: 32px;\n",
              "    }\n",
              "\n",
              "    .colab-df-convert:hover {\n",
              "      background-color: #E2EBFA;\n",
              "      box-shadow: 0px 1px 2px rgba(60, 64, 67, 0.3), 0px 1px 3px 1px rgba(60, 64, 67, 0.15);\n",
              "      fill: #174EA6;\n",
              "    }\n",
              "\n",
              "    [theme=dark] .colab-df-convert {\n",
              "      background-color: #3B4455;\n",
              "      fill: #D2E3FC;\n",
              "    }\n",
              "\n",
              "    [theme=dark] .colab-df-convert:hover {\n",
              "      background-color: #434B5C;\n",
              "      box-shadow: 0px 1px 3px 1px rgba(0, 0, 0, 0.15);\n",
              "      filter: drop-shadow(0px 1px 2px rgba(0, 0, 0, 0.3));\n",
              "      fill: #FFFFFF;\n",
              "    }\n",
              "  </style>\n",
              "\n",
              "      <script>\n",
              "        const buttonEl =\n",
              "          document.querySelector('#df-32bbaf87-c223-43d9-9767-f60d2c6e8b67 button.colab-df-convert');\n",
              "        buttonEl.style.display =\n",
              "          google.colab.kernel.accessAllowed ? 'block' : 'none';\n",
              "\n",
              "        async function convertToInteractive(key) {\n",
              "          const element = document.querySelector('#df-32bbaf87-c223-43d9-9767-f60d2c6e8b67');\n",
              "          const dataTable =\n",
              "            await google.colab.kernel.invokeFunction('convertToInteractive',\n",
              "                                                     [key], {});\n",
              "          if (!dataTable) return;\n",
              "\n",
              "          const docLinkHtml = 'Like what you see? Visit the ' +\n",
              "            '<a target=\"_blank\" href=https://colab.research.google.com/notebooks/data_table.ipynb>data table notebook</a>'\n",
              "            + ' to learn more about interactive tables.';\n",
              "          element.innerHTML = '';\n",
              "          dataTable['output_type'] = 'display_data';\n",
              "          await google.colab.output.renderOutput(dataTable, element);\n",
              "          const docLink = document.createElement('div');\n",
              "          docLink.innerHTML = docLinkHtml;\n",
              "          element.appendChild(docLink);\n",
              "        }\n",
              "      </script>\n",
              "    </div>\n",
              "  </div>\n",
              "  "
            ]
          },
          "metadata": {},
          "execution_count": 112
        }
      ],
      "source": [
        "#combining files using customer id\n",
        "file = file1.merge(file2, on = \"customerID\")\n",
        "file.head()"
      ]
    },
    {
      "cell_type": "markdown",
      "metadata": {
        "id": "yVG8ZGB6UzlJ"
      },
      "source": [
        "Checking the type for each columns\n"
      ]
    },
    {
      "cell_type": "code",
      "execution_count": null,
      "metadata": {
        "colab": {
          "base_uri": "https://localhost:8080/"
        },
        "id": "7zPJUh8vZDKn",
        "outputId": "808cb7ca-bb21-422d-c01d-e2b0ac22a829"
      },
      "outputs": [
        {
          "output_type": "stream",
          "name": "stdout",
          "text": [
            "<class 'pandas.core.frame.DataFrame'>\n",
            "Int64Index: 7043 entries, 0 to 7042\n",
            "Data columns (total 21 columns):\n",
            " #   Column            Non-Null Count  Dtype  \n",
            "---  ------            --------------  -----  \n",
            " 0   customerID        7043 non-null   object \n",
            " 1   gender            7043 non-null   object \n",
            " 2   SeniorCitizen     7043 non-null   int64  \n",
            " 3   Partner           7043 non-null   object \n",
            " 4   Dependents        7043 non-null   object \n",
            " 5   tenure            7043 non-null   int64  \n",
            " 6   PhoneService      7043 non-null   object \n",
            " 7   MultipleLines     7043 non-null   object \n",
            " 8   InternetService   7043 non-null   object \n",
            " 9   OnlineSecurity    7043 non-null   object \n",
            " 10  OnlineBackup      7043 non-null   object \n",
            " 11  DeviceProtection  7043 non-null   object \n",
            " 12  TechSupport       7043 non-null   object \n",
            " 13  StreamingTV       7043 non-null   object \n",
            " 14  StreamingMovies   7043 non-null   object \n",
            " 15  Contract          7043 non-null   object \n",
            " 16  PaperlessBilling  7043 non-null   object \n",
            " 17  PaymentMethod     7043 non-null   object \n",
            " 18  MonthlyCharges    7043 non-null   float64\n",
            " 19  TotalCharges      7043 non-null   object \n",
            " 20  Churn             7043 non-null   object \n",
            "dtypes: float64(1), int64(2), object(18)\n",
            "memory usage: 1.2+ MB\n"
          ]
        }
      ],
      "source": [
        "file.info()"
      ]
    },
    {
      "cell_type": "markdown",
      "metadata": {
        "id": "s7oVmowJyufC"
      },
      "source": [
        "checking if all columns are present in the main file"
      ]
    },
    {
      "cell_type": "code",
      "execution_count": null,
      "metadata": {
        "colab": {
          "base_uri": "https://localhost:8080/"
        },
        "id": "kew8yAaYZMPn",
        "outputId": "0834b487-84a8-48f3-f61c-5fb83b6c6395"
      },
      "outputs": [
        {
          "output_type": "stream",
          "name": "stdout",
          "text": [
            "customerID is present in mainfile: True\n",
            "OnlineBackup is present in mainfile: True\n",
            "DeviceProtection is present in mainfile: True\n",
            "TechSupport is present in mainfile: True\n",
            "StreamingTV is present in mainfile: True\n",
            "StreamingMovies is present in mainfile: True\n",
            "Contract is present in mainfile: True\n",
            "PaperlessBilling is present in mainfile: True\n",
            "PaymentMethod is present in mainfile: True\n",
            "MonthlyCharges is present in mainfile: True\n",
            "TotalCharges is present in mainfile: True\n",
            "Churn is present in mainfile: True\n"
          ]
        }
      ],
      "source": [
        "df1 = list(file2.columns) #checking if all the column names from file 1 are present in main file, using in \n",
        "df = list(file.columns)\n",
        "for x in df1:\n",
        "    print(x, \"is present in mainfile:\" , x in df)"
      ]
    },
    {
      "cell_type": "code",
      "execution_count": null,
      "metadata": {
        "colab": {
          "base_uri": "https://localhost:8080/"
        },
        "id": "F-MoD_4yyl1G",
        "outputId": "1ba00391-13d0-45d4-84f3-b66ee5b143ba"
      },
      "outputs": [
        {
          "output_type": "stream",
          "name": "stdout",
          "text": [
            "customerID is present in mainfile: True\n",
            "OnlineBackup is present in mainfile: True\n",
            "DeviceProtection is present in mainfile: True\n",
            "TechSupport is present in mainfile: True\n",
            "StreamingTV is present in mainfile: True\n",
            "StreamingMovies is present in mainfile: True\n",
            "Contract is present in mainfile: True\n",
            "PaperlessBilling is present in mainfile: True\n",
            "PaymentMethod is present in mainfile: True\n",
            "MonthlyCharges is present in mainfile: True\n",
            "TotalCharges is present in mainfile: True\n",
            "Churn is present in mainfile: True\n"
          ]
        }
      ],
      "source": [
        "df2 = list(file2.columns)  #checking if all the column names from file 2 are present in main file, using in \n",
        "for y in df2:\n",
        "    print(y, \"is present in mainfile:\" , x in df)"
      ]
    },
    {
      "cell_type": "markdown",
      "metadata": {
        "id": "XtFObV39zJwO"
      },
      "source": [
        "**2. DATA CLEANING**"
      ]
    },
    {
      "cell_type": "markdown",
      "metadata": {
        "id": "ZnNaB_poza4I"
      },
      "source": [
        "Imputing Missing Values"
      ]
    },
    {
      "cell_type": "code",
      "execution_count": null,
      "metadata": {
        "colab": {
          "base_uri": "https://localhost:8080/"
        },
        "id": "q4ecEFy6zVAE",
        "outputId": "88914423-5062-4004-c00e-0991f16f8ee2"
      },
      "outputs": [
        {
          "output_type": "execute_result",
          "data": {
            "text/plain": [
              "customerID          0\n",
              "gender              0\n",
              "SeniorCitizen       0\n",
              "Partner             0\n",
              "Dependents          0\n",
              "tenure              0\n",
              "PhoneService        0\n",
              "MultipleLines       0\n",
              "InternetService     0\n",
              "OnlineSecurity      0\n",
              "OnlineBackup        0\n",
              "DeviceProtection    0\n",
              "TechSupport         0\n",
              "StreamingTV         0\n",
              "StreamingMovies     0\n",
              "Contract            0\n",
              "PaperlessBilling    0\n",
              "PaymentMethod       0\n",
              "MonthlyCharges      0\n",
              "TotalCharges        0\n",
              "Churn               0\n",
              "dtype: int64"
            ]
          },
          "metadata": {},
          "execution_count": 116
        }
      ],
      "source": [
        "#checing missing values in each column\n",
        "file.isnull().sum()"
      ]
    },
    {
      "cell_type": "markdown",
      "metadata": {
        "id": "R05KroW_1dlA"
      },
      "source": [
        "hence there are no missing values, checking for any unexpected values, we find that there are some values represented as \"  \", hnece replacing those with null values, then treating it"
      ]
    },
    {
      "cell_type": "markdown",
      "metadata": {
        "id": "TERtEnWY2pXu"
      },
      "source": [
        "Coverting all continuous variables with continuous values to Float, here only TotalCharges"
      ]
    },
    {
      "cell_type": "code",
      "execution_count": null,
      "metadata": {
        "id": "JnPE5cQL2t-S"
      },
      "outputs": [],
      "source": [
        "file[\"TotalCharges\"] = pd.to_numeric(file.TotalCharges, errors = \"coerce\") #hence changing the data type to numeric, and making errors = coerc, will allow to interpret \" \" value also as a float"
      ]
    },
    {
      "cell_type": "code",
      "execution_count": null,
      "metadata": {
        "colab": {
          "base_uri": "https://localhost:8080/"
        },
        "id": "FO4t0tII6wIs",
        "outputId": "c8b7da2a-5b7e-4b91-afe7-b350ec1b2a90"
      },
      "outputs": [
        {
          "output_type": "stream",
          "name": "stdout",
          "text": [
            "<class 'pandas.core.frame.DataFrame'>\n",
            "Int64Index: 7043 entries, 0 to 7042\n",
            "Data columns (total 21 columns):\n",
            " #   Column            Non-Null Count  Dtype  \n",
            "---  ------            --------------  -----  \n",
            " 0   customerID        7043 non-null   object \n",
            " 1   gender            7043 non-null   object \n",
            " 2   SeniorCitizen     7043 non-null   int64  \n",
            " 3   Partner           7043 non-null   object \n",
            " 4   Dependents        7043 non-null   object \n",
            " 5   tenure            7043 non-null   int64  \n",
            " 6   PhoneService      7043 non-null   object \n",
            " 7   MultipleLines     7043 non-null   object \n",
            " 8   InternetService   7043 non-null   object \n",
            " 9   OnlineSecurity    7043 non-null   object \n",
            " 10  OnlineBackup      7043 non-null   object \n",
            " 11  DeviceProtection  7043 non-null   object \n",
            " 12  TechSupport       7043 non-null   object \n",
            " 13  StreamingTV       7043 non-null   object \n",
            " 14  StreamingMovies   7043 non-null   object \n",
            " 15  Contract          7043 non-null   object \n",
            " 16  PaperlessBilling  7043 non-null   object \n",
            " 17  PaymentMethod     7043 non-null   object \n",
            " 18  MonthlyCharges    7043 non-null   float64\n",
            " 19  TotalCharges      7032 non-null   float64\n",
            " 20  Churn             7043 non-null   object \n",
            "dtypes: float64(2), int64(2), object(17)\n",
            "memory usage: 1.2+ MB\n"
          ]
        }
      ],
      "source": [
        "file.info()"
      ]
    },
    {
      "cell_type": "code",
      "execution_count": null,
      "metadata": {
        "colab": {
          "base_uri": "https://localhost:8080/"
        },
        "id": "_wYNcMxNFAxk",
        "outputId": "9daea9bf-7ca1-480b-c662-58da018cdf33"
      },
      "outputs": [
        {
          "output_type": "execute_result",
          "data": {
            "text/plain": [
              "customerID           0\n",
              "gender               0\n",
              "SeniorCitizen        0\n",
              "Partner              0\n",
              "Dependents           0\n",
              "tenure               0\n",
              "PhoneService         0\n",
              "MultipleLines        0\n",
              "InternetService      0\n",
              "OnlineSecurity       0\n",
              "OnlineBackup         0\n",
              "DeviceProtection     0\n",
              "TechSupport          0\n",
              "StreamingTV          0\n",
              "StreamingMovies      0\n",
              "Contract             0\n",
              "PaperlessBilling     0\n",
              "PaymentMethod        0\n",
              "MonthlyCharges       0\n",
              "TotalCharges        11\n",
              "Churn                0\n",
              "dtype: int64"
            ]
          },
          "metadata": {},
          "execution_count": 119
        }
      ],
      "source": [
        "#checking null values now\n",
        "file.isnull().sum()"
      ]
    },
    {
      "cell_type": "markdown",
      "metadata": {
        "id": "BBotEmqUFFXM"
      },
      "source": [
        "Hence we can see that we have 11 missing values in the column Total Charges, hence replacing that with median"
      ]
    },
    {
      "cell_type": "code",
      "execution_count": null,
      "metadata": {
        "id": "wcLZYomiFMJ0"
      },
      "outputs": [],
      "source": [
        "file[\"TotalCharges\"] = file[\"TotalCharges\"].fillna(file[\"TotalCharges\"].median())"
      ]
    },
    {
      "cell_type": "markdown",
      "metadata": {
        "id": "Rd646VxpFXnB"
      },
      "source": [
        "Now checking for null values again to verify"
      ]
    },
    {
      "cell_type": "code",
      "execution_count": null,
      "metadata": {
        "id": "EBxsU446FarR"
      },
      "outputs": [],
      "source": [
        "file.isnull().sum() #hence all missing values are treated\n",
        "file = file.drop(\"customerID\", axis = 1)"
      ]
    },
    {
      "cell_type": "markdown",
      "source": [
        "checking which column has highest impact on the target variable Churn"
      ],
      "metadata": {
        "id": "IDBWdjJVwBAh"
      }
    },
    {
      "cell_type": "code",
      "source": [
        "file_cat_2 = file.select_dtypes(exclude = np.number)\n",
        "file_cat_excl = file_cat_2.drop(\"Churn\", axis =1)\n",
        "for i in file_cat_excl.columns:\n",
        "  print(pd.crosstab(file_cat_2[\"Churn\"], file_cat_excl[i], values=file[\"Churn\"], aggfunc='count'))"
      ],
      "metadata": {
        "colab": {
          "base_uri": "https://localhost:8080/"
        },
        "id": "ehBDap5UwAd-",
        "outputId": "32b14992-2e0b-4f3c-e4fe-4d6125dd6625"
      },
      "execution_count": null,
      "outputs": [
        {
          "output_type": "stream",
          "name": "stdout",
          "text": [
            "gender  Female  Male\n",
            "Churn               \n",
            "No        2549  2625\n",
            "Yes        939   930\n",
            "Partner    No   Yes\n",
            "Churn              \n",
            "No       2441  2733\n",
            "Yes      1200   669\n",
            "Dependents    No   Yes\n",
            "Churn                 \n",
            "No          3390  1784\n",
            "Yes         1543   326\n",
            "PhoneService   No   Yes\n",
            "Churn                  \n",
            "No            512  4662\n",
            "Yes           170  1699\n",
            "MultipleLines    No  No phone service   Yes\n",
            "Churn                                      \n",
            "No             2541               512  2121\n",
            "Yes             849               170   850\n",
            "InternetService   DSL  Fiber optic    No\n",
            "Churn                                   \n",
            "No               1962         1799  1413\n",
            "Yes               459         1297   113\n",
            "OnlineSecurity    No  No internet service   Yes\n",
            "Churn                                          \n",
            "No              2037                 1413  1724\n",
            "Yes             1461                  113   295\n",
            "OnlineBackup    No  No internet service   Yes\n",
            "Churn                                        \n",
            "No            1855                 1413  1906\n",
            "Yes           1233                  113   523\n",
            "DeviceProtection    No  No internet service   Yes\n",
            "Churn                                            \n",
            "No                1884                 1413  1877\n",
            "Yes               1211                  113   545\n",
            "TechSupport    No  No internet service   Yes\n",
            "Churn                                       \n",
            "No           2027                 1413  1734\n",
            "Yes          1446                  113   310\n",
            "StreamingTV    No  No internet service   Yes\n",
            "Churn                                       \n",
            "No           1868                 1413  1893\n",
            "Yes           942                  113   814\n",
            "StreamingMovies    No  No internet service   Yes\n",
            "Churn                                           \n",
            "No               1847                 1413  1914\n",
            "Yes               938                  113   818\n",
            "Contract  Month-to-month  One year  Two year\n",
            "Churn                                       \n",
            "No                  2220      1307      1647\n",
            "Yes                 1655       166        48\n",
            "PaperlessBilling    No   Yes\n",
            "Churn                       \n",
            "No                2403  2771\n",
            "Yes                469  1400\n",
            "PaymentMethod  Bank transfer (automatic)  Credit card (automatic)  \\\n",
            "Churn                                                               \n",
            "No                                  1286                     1290   \n",
            "Yes                                  258                      232   \n",
            "\n",
            "PaymentMethod  Electronic check  Mailed check  \n",
            "Churn                                          \n",
            "No                         1294          1304  \n",
            "Yes                        1071           308  \n"
          ]
        }
      ]
    },
    {
      "cell_type": "markdown",
      "source": [
        "From above data we can interpret that people who have annual, or two year contract are more unlikely to churn, when compared to the ones with monthly contract"
      ],
      "metadata": {
        "id": "hopU4ohABH40"
      }
    },
    {
      "cell_type": "code",
      "source": [
        "print(file.groupby(\"Churn\")[\"SeniorCitizen\"].count())"
      ],
      "metadata": {
        "colab": {
          "base_uri": "https://localhost:8080/"
        },
        "id": "0Fly4JrECPZA",
        "outputId": "dbd4c8d1-b7be-4339-82a8-0051655351df"
      },
      "execution_count": null,
      "outputs": [
        {
          "output_type": "stream",
          "name": "stdout",
          "text": [
            "Churn\n",
            "No     5174\n",
            "Yes    1869\n",
            "Name: SeniorCitizen, dtype: int64\n"
          ]
        }
      ]
    },
    {
      "cell_type": "markdown",
      "source": [
        "Senior Citizens are not likely to churn"
      ],
      "metadata": {
        "id": "syztljsiDOah"
      }
    },
    {
      "cell_type": "markdown",
      "metadata": {
        "id": "xxbklM-pHat8"
      },
      "source": [
        "\n",
        "Creating a function to take data frame as input, and return pie chart\n",
        "To create a function we use input method\n",
        "\n"
      ]
    },
    {
      "cell_type": "code",
      "execution_count": null,
      "metadata": {
        "id": "0CoJ6X-HHqGy"
      },
      "outputs": [],
      "source": [
        "\n",
        "def chart():\n",
        "  offset = 1\n",
        "  file_cat = file.select_dtypes(exclude = np.number) #to include only categorical columns\n",
        "  plt.figure(figsize = (15,15)) #specifying the size of each pie chart\n",
        "  for i in file_cat.columns:\n",
        "    plt.subplot(6,3,offset) #here we set offset to 1 , specifying the position of 1st pie chart, then gradually increase the offset value\n",
        "    plt.title(i) #to print the title of each chart\n",
        "    plt.pie(file_cat[i].value_counts(), labels = file_cat[i].unique(), autopct = \"%1.1f%%\") #\n",
        "    offset+=1\n",
        "  plt.show()    \n",
        "\n",
        "\n",
        "\n",
        "#autopct is used to display % values, 0.2f denotes the decimal places"
      ]
    },
    {
      "cell_type": "code",
      "execution_count": null,
      "metadata": {
        "colab": {
          "base_uri": "https://localhost:8080/",
          "height": 862
        },
        "id": "7kddg4eKwkEq",
        "outputId": "643fd71d-82f7-4a7f-aa0f-cfa084f743d2"
      },
      "outputs": [
        {
          "output_type": "display_data",
          "data": {
            "text/plain": [
              "<Figure size 1080x1080 with 16 Axes>"
            ],
            "image/png": "[encoded data removed]"
          },
          "metadata": {}
        }
      ],
      "source": [
        "chart()"
      ]
    },
    {
      "cell_type": "markdown",
      "metadata": {
        "id": "5eoqg3iIZ_9o"
      },
      "source": [
        "plotting pie plots by calling the function"
      ]
    },
    {
      "cell_type": "markdown",
      "metadata": {
        "id": "nMH4nXFkaxj8"
      },
      "source": [
        "based on the above pie charts we have 50% of each gender category, Payment method is highest for payments through electronic check, and rest of the payment methods have equal importance.\n",
        "\n",
        "Contract period is monthly for 50% of the sample, and for the rest of the 50% contract period is divided equally between 2 months and one year.\n",
        "\n",
        "Around 50% of the sample have DSL internet connection, 34% have Fiber optic, and the remaining 22% have no internet connection"
      ]
    },
    {
      "cell_type": "markdown",
      "metadata": {
        "id": "5j3QMZUgwfFe"
      },
      "source": [
        "Plotting corrrelation heatmap"
      ]
    },
    {
      "cell_type": "code",
      "execution_count": null,
      "metadata": {
        "colab": {
          "base_uri": "https://localhost:8080/",
          "height": 504
        },
        "id": "0MfACNEpwcBj",
        "outputId": "854c58e8-56fd-4174-ed69-9289c49869cb"
      },
      "outputs": [
        {
          "output_type": "execute_result",
          "data": {
            "text/plain": [
              "<matplotlib.axes._subplots.AxesSubplot at 0x7f5ba4ee28e0>"
            ]
          },
          "metadata": {},
          "execution_count": 126
        },
        {
          "output_type": "display_data",
          "data": {
            "text/plain": [
              "<Figure size 576x576 with 2 Axes>"
            ],
            "image/png": "[encoded data removed]"
          },
          "metadata": {
            "needs_background": "light"
          }
        }
      ],
      "source": [
        "cor = file.corr()\n",
        "plt.figure(figsize = (8,8))\n",
        "sb.heatmap(cor, annot = True, vmin = -1, vmax = 1, fmt = \"0.2f\", linewidth = 2, linecolor= \"white\", cmap  = \"coolwarm\")"
      ]
    },
    {
      "cell_type": "code",
      "execution_count": null,
      "metadata": {
        "id": "o587LCDHxBZj"
      },
      "outputs": [],
      "source": [
        "#there is some significant correlation between tenure and total charges"
      ]
    },
    {
      "cell_type": "markdown",
      "metadata": {
        "id": "IqoMNtI6x9Ti"
      },
      "source": [
        "plotting box plots for numerical values to check fir any outliers\n"
      ]
    },
    {
      "cell_type": "code",
      "execution_count": null,
      "metadata": {
        "colab": {
          "base_uri": "https://localhost:8080/",
          "height": 1000
        },
        "id": "JsbyKebWx8Ca",
        "outputId": "a4633fb6-76ea-476d-ffec-aa4b18088619"
      },
      "outputs": [
        {
          "output_type": "display_data",
          "data": {
            "text/plain": [
              "<Figure size 432x288 with 1 Axes>"
            ],
            "image/png": "[encoded data removed]"
          },
          "metadata": {
            "needs_background": "light"
          }
        },
        {
          "output_type": "display_data",
          "data": {
            "text/plain": [
              "<Figure size 432x288 with 1 Axes>"
            ],
            "image/png": "[encoded data removed]"
          },
          "metadata": {
            "needs_background": "light"
          }
        },
        {
          "output_type": "display_data",
          "data": {
            "text/plain": [
              "<Figure size 432x288 with 1 Axes>"
            ],
            "image/png": "[encoded data removed]"
          },
          "metadata": {
            "needs_background": "light"
          }
        },
        {
          "output_type": "display_data",
          "data": {
            "text/plain": [
              "<Figure size 432x288 with 1 Axes>"
            ],
            "image/png": "[encoded data removed]"
          },
          "metadata": {
            "needs_background": "light"
          }
        }
      ],
      "source": [
        "file_num = file.select_dtypes(include = \"number\")\n",
        "for i in file_num.columns:\n",
        "  sb.boxplot(x = file[i])\n",
        "  plt.show()"
      ]
    },
    {
      "cell_type": "markdown",
      "metadata": {
        "id": "0FZMi1qUy8E4"
      },
      "source": [
        "hence we can see that there are almost no outliers in the data , except for one outlier in Senior Citizen"
      ]
    },
    {
      "cell_type": "markdown",
      "metadata": {
        "id": "iJYENe7kfeHE"
      },
      "source": [
        "**Perfroming Encodings to change categorical columns to numerical**"
      ]
    },
    {
      "cell_type": "markdown",
      "metadata": {
        "id": "ST0AuL_4iOgB"
      },
      "source": [
        "Performing Label encoding for  the rest of the columns"
      ]
    },
    {
      "cell_type": "code",
      "execution_count": null,
      "metadata": {
        "id": "jgwXAG6YiT3r"
      },
      "outputs": [],
      "source": [
        "labelenc = LabelEncoder()\n",
        "for i in file[[\"gender\", \"Partner\", \"Dependents\",\"OnlineSecurity\", \"PhoneService\",\"OnlineBackup\",\"DeviceProtection\",\"Churn\",\"PaperlessBilling\",\"MultipleLines\", \"InternetService\", \"Contract\",\"PaymentMethod\", \"TechSupport\", \"StreamingTV\",\"StreamingMovies\"]]:\n",
        "  file[i] = labelenc.fit_transform(file[i])\n"
      ]
    },
    {
      "cell_type": "code",
      "execution_count": null,
      "metadata": {
        "colab": {
          "base_uri": "https://localhost:8080/",
          "height": 270
        },
        "id": "MAspvY6qlnZl",
        "outputId": "51ebe918-ba4d-4653-dee2-1388cddb3963"
      },
      "outputs": [
        {
          "output_type": "execute_result",
          "data": {
            "text/plain": [
              "   gender  SeniorCitizen  Partner  Dependents  tenure  PhoneService  \\\n",
              "0       0              0        1           0       1             0   \n",
              "1       1              0        0           0      34             1   \n",
              "2       1              0        0           0       2             1   \n",
              "3       1              0        0           0      45             0   \n",
              "4       0              0        0           0       2             1   \n",
              "\n",
              "   MultipleLines  InternetService  OnlineSecurity  OnlineBackup  \\\n",
              "0              1                0               0             2   \n",
              "1              0                0               2             0   \n",
              "2              0                0               2             2   \n",
              "3              1                0               2             0   \n",
              "4              0                1               0             0   \n",
              "\n",
              "   DeviceProtection  TechSupport  StreamingTV  StreamingMovies  Contract  \\\n",
              "0                 0            0            0                0         0   \n",
              "1                 2            0            0                0         1   \n",
              "2                 0            0            0                0         0   \n",
              "3                 2            2            0                0         1   \n",
              "4                 0            0            0                0         0   \n",
              "\n",
              "   PaperlessBilling  PaymentMethod  MonthlyCharges  TotalCharges  Churn  \n",
              "0                 1              2           29.85         29.85      0  \n",
              "1                 0              3           56.95       1889.50      0  \n",
              "2                 1              3           53.85        108.15      1  \n",
              "3                 0              0           42.30       1840.75      0  \n",
              "4                 1              2           70.70        151.65      1  "
            ],
            "text/html": [
              "\n",
              "  <div id=\"df-dfe59612-e14d-40a1-b92e-cef1e7193dd4\">\n",
              "    <div class=\"colab-df-container\">\n",
              "      <div>\n",
              "<style scoped>\n",
              "    .dataframe tbody tr th:only-of-type {\n",
              "        vertical-align: middle;\n",
              "    }\n",
              "\n",
              "    .dataframe tbody tr th {\n",
              "        vertical-align: top;\n",
              "    }\n",
              "\n",
              "    .dataframe thead th {\n",
              "        text-align: right;\n",
              "    }\n",
              "</style>\n",
              "<table border=\"1\" class=\"dataframe\">\n",
              "  <thead>\n",
              "    <tr style=\"text-align: right;\">\n",
              "      <th></th>\n",
              "      <th>gender</th>\n",
              "      <th>SeniorCitizen</th>\n",
              "      <th>Partner</th>\n",
              "      <th>Dependents</th>\n",
              "      <th>tenure</th>\n",
              "      <th>PhoneService</th>\n",
              "      <th>MultipleLines</th>\n",
              "      <th>InternetService</th>\n",
              "      <th>OnlineSecurity</th>\n",
              "      <th>OnlineBackup</th>\n",
              "      <th>DeviceProtection</th>\n",
              "      <th>TechSupport</th>\n",
              "      <th>StreamingTV</th>\n",
              "      <th>StreamingMovies</th>\n",
              "      <th>Contract</th>\n",
              "      <th>PaperlessBilling</th>\n",
              "      <th>PaymentMethod</th>\n",
              "      <th>MonthlyCharges</th>\n",
              "      <th>TotalCharges</th>\n",
              "      <th>Churn</th>\n",
              "    </tr>\n",
              "  </thead>\n",
              "  <tbody>\n",
              "    <tr>\n",
              "      <th>0</th>\n",
              "      <td>0</td>\n",
              "      <td>0</td>\n",
              "      <td>1</td>\n",
              "      <td>0</td>\n",
              "      <td>1</td>\n",
              "      <td>0</td>\n",
              "      <td>1</td>\n",
              "      <td>0</td>\n",
              "      <td>0</td>\n",
              "      <td>2</td>\n",
              "      <td>0</td>\n",
              "      <td>0</td>\n",
              "      <td>0</td>\n",
              "      <td>0</td>\n",
              "      <td>0</td>\n",
              "      <td>1</td>\n",
              "      <td>2</td>\n",
              "      <td>29.85</td>\n",
              "      <td>29.85</td>\n",
              "      <td>0</td>\n",
              "    </tr>\n",
              "    <tr>\n",
              "      <th>1</th>\n",
              "      <td>1</td>\n",
              "      <td>0</td>\n",
              "      <td>0</td>\n",
              "      <td>0</td>\n",
              "      <td>34</td>\n",
              "      <td>1</td>\n",
              "      <td>0</td>\n",
              "      <td>0</td>\n",
              "      <td>2</td>\n",
              "      <td>0</td>\n",
              "      <td>2</td>\n",
              "      <td>0</td>\n",
              "      <td>0</td>\n",
              "      <td>0</td>\n",
              "      <td>1</td>\n",
              "      <td>0</td>\n",
              "      <td>3</td>\n",
              "      <td>56.95</td>\n",
              "      <td>1889.50</td>\n",
              "      <td>0</td>\n",
              "    </tr>\n",
              "    <tr>\n",
              "      <th>2</th>\n",
              "      <td>1</td>\n",
              "      <td>0</td>\n",
              "      <td>0</td>\n",
              "      <td>0</td>\n",
              "      <td>2</td>\n",
              "      <td>1</td>\n",
              "      <td>0</td>\n",
              "      <td>0</td>\n",
              "      <td>2</td>\n",
              "      <td>2</td>\n",
              "      <td>0</td>\n",
              "      <td>0</td>\n",
              "      <td>0</td>\n",
              "      <td>0</td>\n",
              "      <td>0</td>\n",
              "      <td>1</td>\n",
              "      <td>3</td>\n",
              "      <td>53.85</td>\n",
              "      <td>108.15</td>\n",
              "      <td>1</td>\n",
              "    </tr>\n",
              "    <tr>\n",
              "      <th>3</th>\n",
              "      <td>1</td>\n",
              "      <td>0</td>\n",
              "      <td>0</td>\n",
              "      <td>0</td>\n",
              "      <td>45</td>\n",
              "      <td>0</td>\n",
              "      <td>1</td>\n",
              "      <td>0</td>\n",
              "      <td>2</td>\n",
              "      <td>0</td>\n",
              "      <td>2</td>\n",
              "      <td>2</td>\n",
              "      <td>0</td>\n",
              "      <td>0</td>\n",
              "      <td>1</td>\n",
              "      <td>0</td>\n",
              "      <td>0</td>\n",
              "      <td>42.30</td>\n",
              "      <td>1840.75</td>\n",
              "      <td>0</td>\n",
              "    </tr>\n",
              "    <tr>\n",
              "      <th>4</th>\n",
              "      <td>0</td>\n",
              "      <td>0</td>\n",
              "      <td>0</td>\n",
              "      <td>0</td>\n",
              "      <td>2</td>\n",
              "      <td>1</td>\n",
              "      <td>0</td>\n",
              "      <td>1</td>\n",
              "      <td>0</td>\n",
              "      <td>0</td>\n",
              "      <td>0</td>\n",
              "      <td>0</td>\n",
              "      <td>0</td>\n",
              "      <td>0</td>\n",
              "      <td>0</td>\n",
              "      <td>1</td>\n",
              "      <td>2</td>\n",
              "      <td>70.70</td>\n",
              "      <td>151.65</td>\n",
              "      <td>1</td>\n",
              "    </tr>\n",
              "  </tbody>\n",
              "</table>\n",
              "</div>\n",
              "      <button class=\"colab-df-convert\" onclick=\"convertToInteractive('df-dfe59612-e14d-40a1-b92e-cef1e7193dd4')\"\n",
              "              title=\"Convert this dataframe to an interactive table.\"\n",
              "              style=\"display:none;\">\n",
              "        \n",
              "  <svg xmlns=\"http://www.w3.org/2000/svg\" height=\"24px\"viewBox=\"0 0 24 24\"\n",
              "       width=\"24px\">\n",
              "    <path d=\"M0 0h24v24H0V0z\" fill=\"none\"/>\n",
              "    <path d=\"M18.56 5.44l.94 2.06.94-2.06 2.06-.94-2.06-.94-.94-2.06-.94 2.06-2.06.94zm-11 1L8.5 8.5l.94-2.06 2.06-.94-2.06-.94L8.5 2.5l-.94 2.06-2.06.94zm10 10l.94 2.06.94-2.06 2.06-.94-2.06-.94-.94-2.06-.94 2.06-2.06.94z\"/><path d=\"M17.41 7.96l-1.37-1.37c-.4-.4-.92-.59-1.43-.59-.52 0-1.04.2-1.43.59L10.3 9.45l-7.72 7.72c-.78.78-.78 2.05 0 2.83L4 21.41c.39.39.9.59 1.41.59.51 0 1.02-.2 1.41-.59l7.78-7.78 2.81-2.81c.8-.78.8-2.07 0-2.86zM5.41 20L4 18.59l7.72-7.72 1.47 1.35L5.41 20z\"/>\n",
              "  </svg>\n",
              "      </button>\n",
              "      \n",
              "  <style>\n",
              "    .colab-df-container {\n",
              "      display:flex;\n",
              "      flex-wrap:wrap;\n",
              "      gap: 12px;\n",
              "    }\n",
              "\n",
              "    .colab-df-convert {\n",
              "      background-color: #E8F0FE;\n",
              "      border: none;\n",
              "      border-radius: 50%;\n",
              "      cursor: pointer;\n",
              "      display: none;\n",
              "      fill: #1967D2;\n",
              "      height: 32px;\n",
              "      padding: 0 0 0 0;\n",
              "      width: 32px;\n",
              "    }\n",
              "\n",
              "    .colab-df-convert:hover {\n",
              "      background-color: #E2EBFA;\n",
              "      box-shadow: 0px 1px 2px rgba(60, 64, 67, 0.3), 0px 1px 3px 1px rgba(60, 64, 67, 0.15);\n",
              "      fill: #174EA6;\n",
              "    }\n",
              "\n",
              "    [theme=dark] .colab-df-convert {\n",
              "      background-color: #3B4455;\n",
              "      fill: #D2E3FC;\n",
              "    }\n",
              "\n",
              "    [theme=dark] .colab-df-convert:hover {\n",
              "      background-color: #434B5C;\n",
              "      box-shadow: 0px 1px 3px 1px rgba(0, 0, 0, 0.15);\n",
              "      filter: drop-shadow(0px 1px 2px rgba(0, 0, 0, 0.3));\n",
              "      fill: #FFFFFF;\n",
              "    }\n",
              "  </style>\n",
              "\n",
              "      <script>\n",
              "        const buttonEl =\n",
              "          document.querySelector('#df-dfe59612-e14d-40a1-b92e-cef1e7193dd4 button.colab-df-convert');\n",
              "        buttonEl.style.display =\n",
              "          google.colab.kernel.accessAllowed ? 'block' : 'none';\n",
              "\n",
              "        async function convertToInteractive(key) {\n",
              "          const element = document.querySelector('#df-dfe59612-e14d-40a1-b92e-cef1e7193dd4');\n",
              "          const dataTable =\n",
              "            await google.colab.kernel.invokeFunction('convertToInteractive',\n",
              "                                                     [key], {});\n",
              "          if (!dataTable) return;\n",
              "\n",
              "          const docLinkHtml = 'Like what you see? Visit the ' +\n",
              "            '<a target=\"_blank\" href=https://colab.research.google.com/notebooks/data_table.ipynb>data table notebook</a>'\n",
              "            + ' to learn more about interactive tables.';\n",
              "          element.innerHTML = '';\n",
              "          dataTable['output_type'] = 'display_data';\n",
              "          await google.colab.output.renderOutput(dataTable, element);\n",
              "          const docLink = document.createElement('div');\n",
              "          docLink.innerHTML = docLinkHtml;\n",
              "          element.appendChild(docLink);\n",
              "        }\n",
              "      </script>\n",
              "    </div>\n",
              "  </div>\n",
              "  "
            ]
          },
          "metadata": {},
          "execution_count": 130
        }
      ],
      "source": [
        "file.head()"
      ]
    },
    {
      "cell_type": "markdown",
      "metadata": {
        "id": "QldHsEDtoe1C"
      },
      "source": [
        "Target Variable is whether a customer will churn from the service next month or not\n"
      ]
    },
    {
      "cell_type": "markdown",
      "metadata": {
        "id": "WqwpCwJGoyqg"
      },
      "source": [
        "Dividing the data set into train and test"
      ]
    },
    {
      "cell_type": "code",
      "execution_count": null,
      "metadata": {
        "colab": {
          "base_uri": "https://localhost:8080/",
          "height": 488
        },
        "id": "_KtaKV5Wo2iY",
        "outputId": "a84ae7ce-8efe-409c-fb50-2bb5569b72c4"
      },
      "outputs": [
        {
          "output_type": "execute_result",
          "data": {
            "text/plain": [
              "      gender  SeniorCitizen  Partner  Dependents  tenure  PhoneService  \\\n",
              "6857       1              0        1           1      58             1   \n",
              "4435       1              0        1           0      17             1   \n",
              "6444       1              0        0           1      31             1   \n",
              "4247       1              0        1           1      69             1   \n",
              "2404       0              0        1           1      42             1   \n",
              "...      ...            ...      ...         ...     ...           ...   \n",
              "6443       0              0        0           0       9             1   \n",
              "3606       0              0        1           0      70             1   \n",
              "5704       0              0        1           0      19             1   \n",
              "6637       1              0        1           0      69             1   \n",
              "2575       0              0        0           0      35             1   \n",
              "\n",
              "      MultipleLines  InternetService  OnlineSecurity  OnlineBackup  \\\n",
              "6857              0                1               0             2   \n",
              "4435              2                1               0             2   \n",
              "6444              2                0               0             2   \n",
              "4247              0                1               2             2   \n",
              "2404              2                1               2             2   \n",
              "...             ...              ...             ...           ...   \n",
              "6443              0                2               1             1   \n",
              "3606              2                1               0             0   \n",
              "5704              2                1               0             0   \n",
              "6637              0                0               2             2   \n",
              "2575              0                2               1             1   \n",
              "\n",
              "      DeviceProtection  TechSupport  StreamingTV  StreamingMovies  Contract  \\\n",
              "6857                 0            0            2                2         0   \n",
              "4435                 0            0            0                0         0   \n",
              "6444                 0            2            2                2         1   \n",
              "4247                 0            2            2                2         2   \n",
              "2404                 0            0            2                0         1   \n",
              "...                ...          ...          ...              ...       ...   \n",
              "6443                 1            1            1                1         0   \n",
              "3606                 2            0            2                2         1   \n",
              "5704                 0            0            2                0         0   \n",
              "6637                 0            0            0                0         1   \n",
              "2575                 1            1            1                1         0   \n",
              "\n",
              "      PaperlessBilling  PaymentMethod  MonthlyCharges  TotalCharges  \n",
              "6857                 1              2           92.85       5305.05  \n",
              "4435                 1              0           80.50       1336.90  \n",
              "6444                 1              3           79.45       2587.70  \n",
              "4247                 1              1          106.35       7261.75  \n",
              "2404                 1              1           94.45       3923.80  \n",
              "...                ...            ...             ...           ...  \n",
              "6443                 0              0           19.50        150.35  \n",
              "3606                 1              2          101.75       7069.30  \n",
              "5704                 1              2           86.85       1564.40  \n",
              "6637                 1              1           53.65       3804.40  \n",
              "2575                 0              0           19.25        617.65  \n",
              "\n",
              "[5282 rows x 19 columns]"
            ],
            "text/html": [
              "\n",
              "  <div id=\"df-22ef8074-d2c7-4466-841a-45434231bf08\">\n",
              "    <div class=\"colab-df-container\">\n",
              "      <div>\n",
              "<style scoped>\n",
              "    .dataframe tbody tr th:only-of-type {\n",
              "        vertical-align: middle;\n",
              "    }\n",
              "\n",
              "    .dataframe tbody tr th {\n",
              "        vertical-align: top;\n",
              "    }\n",
              "\n",
              "    .dataframe thead th {\n",
              "        text-align: right;\n",
              "    }\n",
              "</style>\n",
              "<table border=\"1\" class=\"dataframe\">\n",
              "  <thead>\n",
              "    <tr style=\"text-align: right;\">\n",
              "      <th></th>\n",
              "      <th>gender</th>\n",
              "      <th>SeniorCitizen</th>\n",
              "      <th>Partner</th>\n",
              "      <th>Dependents</th>\n",
              "      <th>tenure</th>\n",
              "      <th>PhoneService</th>\n",
              "      <th>MultipleLines</th>\n",
              "      <th>InternetService</th>\n",
              "      <th>OnlineSecurity</th>\n",
              "      <th>OnlineBackup</th>\n",
              "      <th>DeviceProtection</th>\n",
              "      <th>TechSupport</th>\n",
              "      <th>StreamingTV</th>\n",
              "      <th>StreamingMovies</th>\n",
              "      <th>Contract</th>\n",
              "      <th>PaperlessBilling</th>\n",
              "      <th>PaymentMethod</th>\n",
              "      <th>MonthlyCharges</th>\n",
              "      <th>TotalCharges</th>\n",
              "    </tr>\n",
              "  </thead>\n",
              "  <tbody>\n",
              "    <tr>\n",
              "      <th>6857</th>\n",
              "      <td>1</td>\n",
              "      <td>0</td>\n",
              "      <td>1</td>\n",
              "      <td>1</td>\n",
              "      <td>58</td>\n",
              "      <td>1</td>\n",
              "      <td>0</td>\n",
              "      <td>1</td>\n",
              "      <td>0</td>\n",
              "      <td>2</td>\n",
              "      <td>0</td>\n",
              "      <td>0</td>\n",
              "      <td>2</td>\n",
              "      <td>2</td>\n",
              "      <td>0</td>\n",
              "      <td>1</td>\n",
              "      <td>2</td>\n",
              "      <td>92.85</td>\n",
              "      <td>5305.05</td>\n",
              "    </tr>\n",
              "    <tr>\n",
              "      <th>4435</th>\n",
              "      <td>1</td>\n",
              "      <td>0</td>\n",
              "      <td>1</td>\n",
              "      <td>0</td>\n",
              "      <td>17</td>\n",
              "      <td>1</td>\n",
              "      <td>2</td>\n",
              "      <td>1</td>\n",
              "      <td>0</td>\n",
              "      <td>2</td>\n",
              "      <td>0</td>\n",
              "      <td>0</td>\n",
              "      <td>0</td>\n",
              "      <td>0</td>\n",
              "      <td>0</td>\n",
              "      <td>1</td>\n",
              "      <td>0</td>\n",
              "      <td>80.50</td>\n",
              "      <td>1336.90</td>\n",
              "    </tr>\n",
              "    <tr>\n",
              "      <th>6444</th>\n",
              "      <td>1</td>\n",
              "      <td>0</td>\n",
              "      <td>0</td>\n",
              "      <td>1</td>\n",
              "      <td>31</td>\n",
              "      <td>1</td>\n",
              "      <td>2</td>\n",
              "      <td>0</td>\n",
              "      <td>0</td>\n",
              "      <td>2</td>\n",
              "      <td>0</td>\n",
              "      <td>2</td>\n",
              "      <td>2</td>\n",
              "      <td>2</td>\n",
              "      <td>1</td>\n",
              "      <td>1</td>\n",
              "      <td>3</td>\n",
              "      <td>79.45</td>\n",
              "      <td>2587.70</td>\n",
              "    </tr>\n",
              "    <tr>\n",
              "      <th>4247</th>\n",
              "      <td>1</td>\n",
              "      <td>0</td>\n",
              "      <td>1</td>\n",
              "      <td>1</td>\n",
              "      <td>69</td>\n",
              "      <td>1</td>\n",
              "      <td>0</td>\n",
              "      <td>1</td>\n",
              "      <td>2</td>\n",
              "      <td>2</td>\n",
              "      <td>0</td>\n",
              "      <td>2</td>\n",
              "      <td>2</td>\n",
              "      <td>2</td>\n",
              "      <td>2</td>\n",
              "      <td>1</td>\n",
              "      <td>1</td>\n",
              "      <td>106.35</td>\n",
              "      <td>7261.75</td>\n",
              "    </tr>\n",
              "    <tr>\n",
              "      <th>2404</th>\n",
              "      <td>0</td>\n",
              "      <td>0</td>\n",
              "      <td>1</td>\n",
              "      <td>1</td>\n",
              "      <td>42</td>\n",
              "      <td>1</td>\n",
              "      <td>2</td>\n",
              "      <td>1</td>\n",
              "      <td>2</td>\n",
              "      <td>2</td>\n",
              "      <td>0</td>\n",
              "      <td>0</td>\n",
              "      <td>2</td>\n",
              "      <td>0</td>\n",
              "      <td>1</td>\n",
              "      <td>1</td>\n",
              "      <td>1</td>\n",
              "      <td>94.45</td>\n",
              "      <td>3923.80</td>\n",
              "    </tr>\n",
              "    <tr>\n",
              "      <th>...</th>\n",
              "      <td>...</td>\n",
              "      <td>...</td>\n",
              "      <td>...</td>\n",
              "      <td>...</td>\n",
              "      <td>...</td>\n",
              "      <td>...</td>\n",
              "      <td>...</td>\n",
              "      <td>...</td>\n",
              "      <td>...</td>\n",
              "      <td>...</td>\n",
              "      <td>...</td>\n",
              "      <td>...</td>\n",
              "      <td>...</td>\n",
              "      <td>...</td>\n",
              "      <td>...</td>\n",
              "      <td>...</td>\n",
              "      <td>...</td>\n",
              "      <td>...</td>\n",
              "      <td>...</td>\n",
              "    </tr>\n",
              "    <tr>\n",
              "      <th>6443</th>\n",
              "      <td>0</td>\n",
              "      <td>0</td>\n",
              "      <td>0</td>\n",
              "      <td>0</td>\n",
              "      <td>9</td>\n",
              "      <td>1</td>\n",
              "      <td>0</td>\n",
              "      <td>2</td>\n",
              "      <td>1</td>\n",
              "      <td>1</td>\n",
              "      <td>1</td>\n",
              "      <td>1</td>\n",
              "      <td>1</td>\n",
              "      <td>1</td>\n",
              "      <td>0</td>\n",
              "      <td>0</td>\n",
              "      <td>0</td>\n",
              "      <td>19.50</td>\n",
              "      <td>150.35</td>\n",
              "    </tr>\n",
              "    <tr>\n",
              "      <th>3606</th>\n",
              "      <td>0</td>\n",
              "      <td>0</td>\n",
              "      <td>1</td>\n",
              "      <td>0</td>\n",
              "      <td>70</td>\n",
              "      <td>1</td>\n",
              "      <td>2</td>\n",
              "      <td>1</td>\n",
              "      <td>0</td>\n",
              "      <td>0</td>\n",
              "      <td>2</td>\n",
              "      <td>0</td>\n",
              "      <td>2</td>\n",
              "      <td>2</td>\n",
              "      <td>1</td>\n",
              "      <td>1</td>\n",
              "      <td>2</td>\n",
              "      <td>101.75</td>\n",
              "      <td>7069.30</td>\n",
              "    </tr>\n",
              "    <tr>\n",
              "      <th>5704</th>\n",
              "      <td>0</td>\n",
              "      <td>0</td>\n",
              "      <td>1</td>\n",
              "      <td>0</td>\n",
              "      <td>19</td>\n",
              "      <td>1</td>\n",
              "      <td>2</td>\n",
              "      <td>1</td>\n",
              "      <td>0</td>\n",
              "      <td>0</td>\n",
              "      <td>0</td>\n",
              "      <td>0</td>\n",
              "      <td>2</td>\n",
              "      <td>0</td>\n",
              "      <td>0</td>\n",
              "      <td>1</td>\n",
              "      <td>2</td>\n",
              "      <td>86.85</td>\n",
              "      <td>1564.40</td>\n",
              "    </tr>\n",
              "    <tr>\n",
              "      <th>6637</th>\n",
              "      <td>1</td>\n",
              "      <td>0</td>\n",
              "      <td>1</td>\n",
              "      <td>0</td>\n",
              "      <td>69</td>\n",
              "      <td>1</td>\n",
              "      <td>0</td>\n",
              "      <td>0</td>\n",
              "      <td>2</td>\n",
              "      <td>2</td>\n",
              "      <td>0</td>\n",
              "      <td>0</td>\n",
              "      <td>0</td>\n",
              "      <td>0</td>\n",
              "      <td>1</td>\n",
              "      <td>1</td>\n",
              "      <td>1</td>\n",
              "      <td>53.65</td>\n",
              "      <td>3804.40</td>\n",
              "    </tr>\n",
              "    <tr>\n",
              "      <th>2575</th>\n",
              "      <td>0</td>\n",
              "      <td>0</td>\n",
              "      <td>0</td>\n",
              "      <td>0</td>\n",
              "      <td>35</td>\n",
              "      <td>1</td>\n",
              "      <td>0</td>\n",
              "      <td>2</td>\n",
              "      <td>1</td>\n",
              "      <td>1</td>\n",
              "      <td>1</td>\n",
              "      <td>1</td>\n",
              "      <td>1</td>\n",
              "      <td>1</td>\n",
              "      <td>0</td>\n",
              "      <td>0</td>\n",
              "      <td>0</td>\n",
              "      <td>19.25</td>\n",
              "      <td>617.65</td>\n",
              "    </tr>\n",
              "  </tbody>\n",
              "</table>\n",
              "<p>5282 rows × 19 columns</p>\n",
              "</div>\n",
              "      <button class=\"colab-df-convert\" onclick=\"convertToInteractive('df-22ef8074-d2c7-4466-841a-45434231bf08')\"\n",
              "              title=\"Convert this dataframe to an interactive table.\"\n",
              "              style=\"display:none;\">\n",
              "        \n",
              "  <svg xmlns=\"http://www.w3.org/2000/svg\" height=\"24px\"viewBox=\"0 0 24 24\"\n",
              "       width=\"24px\">\n",
              "    <path d=\"M0 0h24v24H0V0z\" fill=\"none\"/>\n",
              "    <path d=\"M18.56 5.44l.94 2.06.94-2.06 2.06-.94-2.06-.94-.94-2.06-.94 2.06-2.06.94zm-11 1L8.5 8.5l.94-2.06 2.06-.94-2.06-.94L8.5 2.5l-.94 2.06-2.06.94zm10 10l.94 2.06.94-2.06 2.06-.94-2.06-.94-.94-2.06-.94 2.06-2.06.94z\"/><path d=\"M17.41 7.96l-1.37-1.37c-.4-.4-.92-.59-1.43-.59-.52 0-1.04.2-1.43.59L10.3 9.45l-7.72 7.72c-.78.78-.78 2.05 0 2.83L4 21.41c.39.39.9.59 1.41.59.51 0 1.02-.2 1.41-.59l7.78-7.78 2.81-2.81c.8-.78.8-2.07 0-2.86zM5.41 20L4 18.59l7.72-7.72 1.47 1.35L5.41 20z\"/>\n",
              "  </svg>\n",
              "      </button>\n",
              "      \n",
              "  <style>\n",
              "    .colab-df-container {\n",
              "      display:flex;\n",
              "      flex-wrap:wrap;\n",
              "      gap: 12px;\n",
              "    }\n",
              "\n",
              "    .colab-df-convert {\n",
              "      background-color: #E8F0FE;\n",
              "      border: none;\n",
              "      border-radius: 50%;\n",
              "      cursor: pointer;\n",
              "      display: none;\n",
              "      fill: #1967D2;\n",
              "      height: 32px;\n",
              "      padding: 0 0 0 0;\n",
              "      width: 32px;\n",
              "    }\n",
              "\n",
              "    .colab-df-convert:hover {\n",
              "      background-color: #E2EBFA;\n",
              "      box-shadow: 0px 1px 2px rgba(60, 64, 67, 0.3), 0px 1px 3px 1px rgba(60, 64, 67, 0.15);\n",
              "      fill: #174EA6;\n",
              "    }\n",
              "\n",
              "    [theme=dark] .colab-df-convert {\n",
              "      background-color: #3B4455;\n",
              "      fill: #D2E3FC;\n",
              "    }\n",
              "\n",
              "    [theme=dark] .colab-df-convert:hover {\n",
              "      background-color: #434B5C;\n",
              "      box-shadow: 0px 1px 3px 1px rgba(0, 0, 0, 0.15);\n",
              "      filter: drop-shadow(0px 1px 2px rgba(0, 0, 0, 0.3));\n",
              "      fill: #FFFFFF;\n",
              "    }\n",
              "  </style>\n",
              "\n",
              "      <script>\n",
              "        const buttonEl =\n",
              "          document.querySelector('#df-22ef8074-d2c7-4466-841a-45434231bf08 button.colab-df-convert');\n",
              "        buttonEl.style.display =\n",
              "          google.colab.kernel.accessAllowed ? 'block' : 'none';\n",
              "\n",
              "        async function convertToInteractive(key) {\n",
              "          const element = document.querySelector('#df-22ef8074-d2c7-4466-841a-45434231bf08');\n",
              "          const dataTable =\n",
              "            await google.colab.kernel.invokeFunction('convertToInteractive',\n",
              "                                                     [key], {});\n",
              "          if (!dataTable) return;\n",
              "\n",
              "          const docLinkHtml = 'Like what you see? Visit the ' +\n",
              "            '<a target=\"_blank\" href=https://colab.research.google.com/notebooks/data_table.ipynb>data table notebook</a>'\n",
              "            + ' to learn more about interactive tables.';\n",
              "          element.innerHTML = '';\n",
              "          dataTable['output_type'] = 'display_data';\n",
              "          await google.colab.output.renderOutput(dataTable, element);\n",
              "          const docLink = document.createElement('div');\n",
              "          docLink.innerHTML = docLinkHtml;\n",
              "          element.appendChild(docLink);\n",
              "        }\n",
              "      </script>\n",
              "    </div>\n",
              "  </div>\n",
              "  "
            ]
          },
          "metadata": {},
          "execution_count": 131
        }
      ],
      "source": [
        "x = file.drop(\"Churn\", axis = 1)\n",
        "y = file[\"Churn\"]\n",
        "x_train, x_test, y_train, y_test = train_test_split(x,y, test_size= 0.25, random_state = 2) #we have specified test_size = 0.25, i.e 25% of the data will be used for testing, rest for training, random_state maintains the random sampling when command is sun by different people at different times\n",
        "x_train"
      ]
    },
    {
      "cell_type": "markdown",
      "metadata": {
        "id": "tZ_eNBzcstXx"
      },
      "source": [
        "Scaling the data values using Min max scaler as there are no outliers in the dataset\n"
      ]
    },
    {
      "cell_type": "code",
      "execution_count": null,
      "metadata": {
        "id": "zxlmD0HDszDM"
      },
      "outputs": [],
      "source": [
        "scaler = MinMaxScaler()\n",
        "x_train = scaler.fit_transform(x_train)"
      ]
    },
    {
      "cell_type": "code",
      "execution_count": null,
      "metadata": {
        "id": "WGsgVyYM70lg"
      },
      "outputs": [],
      "source": [
        "#converting the array back to dataFrame\n",
        "x_train = pd.DataFrame(x_train, columns = x.columns)"
      ]
    },
    {
      "cell_type": "markdown",
      "metadata": {
        "id": "-rl0KA0ovCt8"
      },
      "source": [
        "checking the no of each categorical variables in the target data, i.e checking if the sampling is equal"
      ]
    },
    {
      "cell_type": "code",
      "execution_count": null,
      "metadata": {
        "colab": {
          "base_uri": "https://localhost:8080/"
        },
        "id": "VRvpq5skv4n8",
        "outputId": "60438780-a372-49a1-8491-127359cea03e"
      },
      "outputs": [
        {
          "output_type": "execute_result",
          "data": {
            "text/plain": [
              "0    72.945854\n",
              "1    27.054146\n",
              "Name: Churn, dtype: float64"
            ]
          },
          "metadata": {},
          "execution_count": 134
        }
      ],
      "source": [
        "y_train.value_counts()/len(y_train)*100"
      ]
    },
    {
      "cell_type": "markdown",
      "metadata": {
        "id": "vQ1drzgD7oPC"
      },
      "source": [
        "building the model with imbalanced data for Random For Decission Tree"
      ]
    },
    {
      "cell_type": "code",
      "execution_count": null,
      "metadata": {
        "colab": {
          "base_uri": "https://localhost:8080/"
        },
        "id": "puFGdmnM7wL7",
        "outputId": "b18387af-6a04-4d67-bc4d-eb2ff134cf28"
      },
      "outputs": [
        {
          "output_type": "stream",
          "name": "stdout",
          "text": [
            "Accuracy Score for imbalanced data is 0.7501419647927314\n"
          ]
        }
      ],
      "source": [
        "model_DT_imb = DecisionTreeClassifier(random_state = 2)\n",
        "model_DT_imb.fit(x_train, y_train)\n",
        "DT_imb_predict = model_DT_imb.predict(x_test)\n",
        "DT_imb_accuracy = accuracy_score(y_test, DT_imb_predict)\n",
        "print(\"Accuracy Score for imbalanced data is\", DT_imb_accuracy)"
      ]
    },
    {
      "cell_type": "markdown",
      "metadata": {
        "id": "ajqvS8u5zY_E"
      },
      "source": [
        "Hence the data is highly imbalanced, balancing the data sets"
      ]
    },
    {
      "cell_type": "code",
      "execution_count": null,
      "metadata": {
        "id": "F-ac6o8TzYHm"
      },
      "outputs": [],
      "source": [
        "over_sample = SMOTE(random_state = 50)\n",
        "x_train,y_train = over_sample.fit_resample(x_train, y_train)"
      ]
    },
    {
      "cell_type": "code",
      "execution_count": null,
      "metadata": {
        "colab": {
          "base_uri": "https://localhost:8080/"
        },
        "id": "nJ81H0H02KHw",
        "outputId": "593c8e9c-1ad0-4931-e73b-4cf3bb4a1f3e"
      },
      "outputs": [
        {
          "output_type": "execute_result",
          "data": {
            "text/plain": [
              "0    0.5\n",
              "1    0.5\n",
              "Name: Churn, dtype: float64"
            ]
          },
          "metadata": {},
          "execution_count": 137
        }
      ],
      "source": [
        "#checking valucounts again\n",
        "y_train.value_counts()/len(y_train)"
      ]
    },
    {
      "cell_type": "markdown",
      "metadata": {
        "id": "aST4l4In2nBk"
      },
      "source": [
        "hence the data set is balanced now\n"
      ]
    },
    {
      "cell_type": "markdown",
      "metadata": {
        "id": "y9lvv5sf3MTv"
      },
      "source": [
        "Fitting the models now"
      ]
    },
    {
      "cell_type": "markdown",
      "metadata": {
        "id": "PZRqjtbzzeAP"
      },
      "source": [
        "Logistic Regression"
      ]
    },
    {
      "cell_type": "code",
      "execution_count": null,
      "metadata": {
        "colab": {
          "base_uri": "https://localhost:8080/"
        },
        "id": "tHUPGVcM2tGV",
        "outputId": "5b3e3439-2b36-4dc9-aa7e-d793dd05800a"
      },
      "outputs": [
        {
          "output_type": "execute_result",
          "data": {
            "text/plain": [
              "LogisticRegression()"
            ]
          },
          "metadata": {},
          "execution_count": 138
        }
      ],
      "source": [
        "model_LR = LogisticRegression() # calling the model\n",
        "model_LR.fit(x_train, y_train) #fitting the model on training set"
      ]
    },
    {
      "cell_type": "code",
      "execution_count": null,
      "metadata": {
        "id": "_5S1HZ9xzvxu"
      },
      "outputs": [],
      "source": [
        "LR_predict = model_LR.predict(x_test) #predicting the value of y using x varibles in test data"
      ]
    },
    {
      "cell_type": "code",
      "execution_count": null,
      "metadata": {
        "colab": {
          "base_uri": "https://localhost:8080/",
          "height": 81
        },
        "id": "j1xoldXIz4rt",
        "outputId": "a20cbf66-91bf-4ff2-e086-a7be31ad5d46"
      },
      "outputs": [
        {
          "output_type": "execute_result",
          "data": {
            "text/plain": [
              "               Medthod  Accuracy\n",
              "0  Logistic Regression  0.249858"
            ],
            "text/html": [
              "\n",
              "  <div id=\"df-078e4f95-f795-41f9-ad61-22a79359f052\">\n",
              "    <div class=\"colab-df-container\">\n",
              "      <div>\n",
              "<style scoped>\n",
              "    .dataframe tbody tr th:only-of-type {\n",
              "        vertical-align: middle;\n",
              "    }\n",
              "\n",
              "    .dataframe tbody tr th {\n",
              "        vertical-align: top;\n",
              "    }\n",
              "\n",
              "    .dataframe thead th {\n",
              "        text-align: right;\n",
              "    }\n",
              "</style>\n",
              "<table border=\"1\" class=\"dataframe\">\n",
              "  <thead>\n",
              "    <tr style=\"text-align: right;\">\n",
              "      <th></th>\n",
              "      <th>Medthod</th>\n",
              "      <th>Accuracy</th>\n",
              "    </tr>\n",
              "  </thead>\n",
              "  <tbody>\n",
              "    <tr>\n",
              "      <th>0</th>\n",
              "      <td>Logistic Regression</td>\n",
              "      <td>0.249858</td>\n",
              "    </tr>\n",
              "  </tbody>\n",
              "</table>\n",
              "</div>\n",
              "      <button class=\"colab-df-convert\" onclick=\"convertToInteractive('df-078e4f95-f795-41f9-ad61-22a79359f052')\"\n",
              "              title=\"Convert this dataframe to an interactive table.\"\n",
              "              style=\"display:none;\">\n",
              "        \n",
              "  <svg xmlns=\"http://www.w3.org/2000/svg\" height=\"24px\"viewBox=\"0 0 24 24\"\n",
              "       width=\"24px\">\n",
              "    <path d=\"M0 0h24v24H0V0z\" fill=\"none\"/>\n",
              "    <path d=\"M18.56 5.44l.94 2.06.94-2.06 2.06-.94-2.06-.94-.94-2.06-.94 2.06-2.06.94zm-11 1L8.5 8.5l.94-2.06 2.06-.94-2.06-.94L8.5 2.5l-.94 2.06-2.06.94zm10 10l.94 2.06.94-2.06 2.06-.94-2.06-.94-.94-2.06-.94 2.06-2.06.94z\"/><path d=\"M17.41 7.96l-1.37-1.37c-.4-.4-.92-.59-1.43-.59-.52 0-1.04.2-1.43.59L10.3 9.45l-7.72 7.72c-.78.78-.78 2.05 0 2.83L4 21.41c.39.39.9.59 1.41.59.51 0 1.02-.2 1.41-.59l7.78-7.78 2.81-2.81c.8-.78.8-2.07 0-2.86zM5.41 20L4 18.59l7.72-7.72 1.47 1.35L5.41 20z\"/>\n",
              "  </svg>\n",
              "      </button>\n",
              "      \n",
              "  <style>\n",
              "    .colab-df-container {\n",
              "      display:flex;\n",
              "      flex-wrap:wrap;\n",
              "      gap: 12px;\n",
              "    }\n",
              "\n",
              "    .colab-df-convert {\n",
              "      background-color: #E8F0FE;\n",
              "      border: none;\n",
              "      border-radius: 50%;\n",
              "      cursor: pointer;\n",
              "      display: none;\n",
              "      fill: #1967D2;\n",
              "      height: 32px;\n",
              "      padding: 0 0 0 0;\n",
              "      width: 32px;\n",
              "    }\n",
              "\n",
              "    .colab-df-convert:hover {\n",
              "      background-color: #E2EBFA;\n",
              "      box-shadow: 0px 1px 2px rgba(60, 64, 67, 0.3), 0px 1px 3px 1px rgba(60, 64, 67, 0.15);\n",
              "      fill: #174EA6;\n",
              "    }\n",
              "\n",
              "    [theme=dark] .colab-df-convert {\n",
              "      background-color: #3B4455;\n",
              "      fill: #D2E3FC;\n",
              "    }\n",
              "\n",
              "    [theme=dark] .colab-df-convert:hover {\n",
              "      background-color: #434B5C;\n",
              "      box-shadow: 0px 1px 3px 1px rgba(0, 0, 0, 0.15);\n",
              "      filter: drop-shadow(0px 1px 2px rgba(0, 0, 0, 0.3));\n",
              "      fill: #FFFFFF;\n",
              "    }\n",
              "  </style>\n",
              "\n",
              "      <script>\n",
              "        const buttonEl =\n",
              "          document.querySelector('#df-078e4f95-f795-41f9-ad61-22a79359f052 button.colab-df-convert');\n",
              "        buttonEl.style.display =\n",
              "          google.colab.kernel.accessAllowed ? 'block' : 'none';\n",
              "\n",
              "        async function convertToInteractive(key) {\n",
              "          const element = document.querySelector('#df-078e4f95-f795-41f9-ad61-22a79359f052');\n",
              "          const dataTable =\n",
              "            await google.colab.kernel.invokeFunction('convertToInteractive',\n",
              "                                                     [key], {});\n",
              "          if (!dataTable) return;\n",
              "\n",
              "          const docLinkHtml = 'Like what you see? Visit the ' +\n",
              "            '<a target=\"_blank\" href=https://colab.research.google.com/notebooks/data_table.ipynb>data table notebook</a>'\n",
              "            + ' to learn more about interactive tables.';\n",
              "          element.innerHTML = '';\n",
              "          dataTable['output_type'] = 'display_data';\n",
              "          await google.colab.output.renderOutput(dataTable, element);\n",
              "          const docLink = document.createElement('div');\n",
              "          docLink.innerHTML = docLinkHtml;\n",
              "          element.appendChild(docLink);\n",
              "        }\n",
              "      </script>\n",
              "    </div>\n",
              "  </div>\n",
              "  "
            ]
          },
          "metadata": {},
          "execution_count": 140
        }
      ],
      "source": [
        "#printing accuracy scores between the actual and the predicted y values\n",
        "LR_accuracy = accuracy_score(y_test,LR_predict)\n",
        "#printing the accuracy score in DataFrame\n",
        "df = pd.DataFrame({\"Medthod\":\"Logistic Regression\", \"Accuracy\":LR_accuracy}, index = {0})\n",
        "df"
      ]
    },
    {
      "cell_type": "markdown",
      "metadata": {
        "id": "Z_7W1dfhOjvn"
      },
      "source": [
        "finding the coefficient and intercept values"
      ]
    },
    {
      "cell_type": "code",
      "execution_count": null,
      "metadata": {
        "colab": {
          "base_uri": "https://localhost:8080/"
        },
        "id": "SPxpPARuOjIG",
        "outputId": "0813786e-763d-4db1-d0d3-7f23486f4678"
      },
      "outputs": [
        {
          "output_type": "stream",
          "name": "stdout",
          "text": [
            "The coefficent of gender is 0.082263177941799\n",
            "The coefficent of SeniorCitizen is 0.11844796732502606\n",
            "The coefficent of Partner is 0.1414449990167294\n",
            "The coefficent of Dependents is -0.23411434243561563\n",
            "The coefficent of tenure is -3.825015780966841\n",
            "The coefficent of PhoneService is -1.0493635468383176\n",
            "The coefficent of MultipleLines is 0.0388977767021818\n",
            "The coefficent of InternetService is 0.5683665588478974\n",
            "The coefficent of OnlineSecurity is -0.5154120400259367\n",
            "The coefficent of OnlineBackup is -0.32676487861439096\n",
            "The coefficent of DeviceProtection is -0.1473025153971553\n",
            "The coefficent of TechSupport is -0.6496768713448613\n",
            "The coefficent of StreamingTV is 0.08557152183100115\n",
            "The coefficent of StreamingMovies is -0.0015078853745843078\n",
            "The coefficent of Contract is -1.6671149798007232\n",
            "The coefficent of PaperlessBilling is 0.4171672355633824\n",
            "The coefficent of PaymentMethod is 0.269283103674887\n",
            "The coefficent of MonthlyCharges is 2.487698157439228\n",
            "The coefficent of TotalCharges is 1.9131225290611162\n"
          ]
        }
      ],
      "source": [
        "for i, col_name in enumerate(x_train.columns):\n",
        "  print(\"The coefficent of {} is {}\".format(col_name, model_LR.coef_[0][i]))\n"
      ]
    },
    {
      "cell_type": "code",
      "execution_count": null,
      "metadata": {
        "colab": {
          "base_uri": "https://localhost:8080/"
        },
        "id": "jrPLE2_PWoSR",
        "outputId": "fdd4dd71-1927-477e-e69a-8ac66eb10b7a"
      },
      "outputs": [
        {
          "output_type": "execute_result",
          "data": {
            "text/plain": [
              "0.6934000382549375"
            ]
          },
          "metadata": {},
          "execution_count": 142
        }
      ],
      "source": [
        "intercept = model_LR.intercept_[0] #here we use [0] to display the location of value with index 0, otherwise it will display as an array\n",
        "intercept"
      ]
    },
    {
      "cell_type": "markdown",
      "metadata": {
        "id": "Sf_P5VAbW-gy"
      },
      "source": [
        "highest coefficients are for tenure, contract, monthly charges, and total charges"
      ]
    },
    {
      "cell_type": "markdown",
      "metadata": {
        "id": "8jcrvgbJ3F6n"
      },
      "source": [
        "plotting confusion matrix"
      ]
    },
    {
      "cell_type": "code",
      "execution_count": null,
      "metadata": {
        "colab": {
          "base_uri": "https://localhost:8080/",
          "height": 286
        },
        "id": "uSdzGib93E5L",
        "outputId": "bdee9a0b-151e-4006-c193-817686df9af7"
      },
      "outputs": [
        {
          "output_type": "execute_result",
          "data": {
            "text/plain": [
              "<matplotlib.axes._subplots.AxesSubplot at 0x7f5ba9c39130>"
            ]
          },
          "metadata": {},
          "execution_count": 143
        },
        {
          "output_type": "display_data",
          "data": {
            "text/plain": [
              "<Figure size 288x288 with 2 Axes>"
            ],
            "image/png": "[encoded data removed]"
          },
          "metadata": {
            "needs_background": "light"
          }
        }
      ],
      "source": [
        "cm = metrics.confusion_matrix(y_test, LR_predict)\n",
        "df_cm = pd.DataFrame(cm, index = [\"1\",\"0\"], columns = [\"Predict 1\", \"Predict 0\"])\n",
        "plt.figure(figsize=(4,4))\n",
        "sb.heatmap(df_cm, annot = True, vmin = -1, vmax = 1)"
      ]
    },
    {
      "cell_type": "markdown",
      "metadata": {
        "id": "M6MA-_KG4773"
      },
      "source": [
        "Decission Tree"
      ]
    },
    {
      "cell_type": "code",
      "execution_count": null,
      "metadata": {
        "id": "BoGSf4nt47kS"
      },
      "outputs": [],
      "source": [
        "model_DT = DecisionTreeClassifier()\n",
        "model_DT.fit(x_train, y_train)\n",
        "DT_predict = model_DT.predict(x_test)\n",
        "DT_accuracy = accuracy_score(y_test, DT_predict)"
      ]
    },
    {
      "cell_type": "code",
      "execution_count": null,
      "metadata": {
        "colab": {
          "base_uri": "https://localhost:8080/"
        },
        "id": "8BCQS6rW6sO6",
        "outputId": "006d6949-7b60-455a-ffa5-c8c9c350c178"
      },
      "outputs": [
        {
          "output_type": "stream",
          "name": "stdout",
          "text": [
            "Performance on Training data using DT:  0.9985725408772386\n",
            "Performance on Testing data using DT:  0.7586598523566156\n"
          ]
        }
      ],
      "source": [
        "#checking model accuracy on training and test data\n",
        "# performance measuring\n",
        "print('Performance on Training data using DT: ',model_DT.score(x_train , y_train))\n",
        "print('Performance on Testing data using DT: ',model_DT.score(x_test , y_test))"
      ]
    },
    {
      "cell_type": "markdown",
      "metadata": {
        "id": "E2YdNqqf66EI"
      },
      "source": [
        "hence we can see that model accuracy is almost 100% on training data but only 77% on test data, hence overfitting is observed"
      ]
    },
    {
      "cell_type": "code",
      "execution_count": null,
      "metadata": {
        "colab": {
          "base_uri": "https://localhost:8080/",
          "height": 645
        },
        "id": "IAUB-_UC7Cdh",
        "outputId": "67daa5eb-c67c-4770-a72d-a2147d606dd3"
      },
      "outputs": [
        {
          "output_type": "execute_result",
          "data": {
            "text/plain": [
              "                  Feature Importance\n",
              "gender                      0.019244\n",
              "SeniorCitizen               0.015285\n",
              "Partner                     0.018927\n",
              "Dependents                  0.015533\n",
              "tenure                      0.107828\n",
              "PhoneService                0.006100\n",
              "MultipleLines               0.015301\n",
              "InternetService             0.038836\n",
              "OnlineSecurity              0.045710\n",
              "OnlineBackup                0.019529\n",
              "DeviceProtection            0.012280\n",
              "TechSupport                 0.015435\n",
              "StreamingTV                 0.009037\n",
              "StreamingMovies             0.009986\n",
              "Contract                    0.330595\n",
              "PaperlessBilling            0.015354\n",
              "PaymentMethod               0.058146\n",
              "MonthlyCharges              0.139466\n",
              "TotalCharges                0.107409"
            ],
            "text/html": [
              "\n",
              "  <div id=\"df-ec1b9b01-ff3a-496c-aafe-11bad9badcf1\">\n",
              "    <div class=\"colab-df-container\">\n",
              "      <div>\n",
              "<style scoped>\n",
              "    .dataframe tbody tr th:only-of-type {\n",
              "        vertical-align: middle;\n",
              "    }\n",
              "\n",
              "    .dataframe tbody tr th {\n",
              "        vertical-align: top;\n",
              "    }\n",
              "\n",
              "    .dataframe thead th {\n",
              "        text-align: right;\n",
              "    }\n",
              "</style>\n",
              "<table border=\"1\" class=\"dataframe\">\n",
              "  <thead>\n",
              "    <tr style=\"text-align: right;\">\n",
              "      <th></th>\n",
              "      <th>Feature Importance</th>\n",
              "    </tr>\n",
              "  </thead>\n",
              "  <tbody>\n",
              "    <tr>\n",
              "      <th>gender</th>\n",
              "      <td>0.019244</td>\n",
              "    </tr>\n",
              "    <tr>\n",
              "      <th>SeniorCitizen</th>\n",
              "      <td>0.015285</td>\n",
              "    </tr>\n",
              "    <tr>\n",
              "      <th>Partner</th>\n",
              "      <td>0.018927</td>\n",
              "    </tr>\n",
              "    <tr>\n",
              "      <th>Dependents</th>\n",
              "      <td>0.015533</td>\n",
              "    </tr>\n",
              "    <tr>\n",
              "      <th>tenure</th>\n",
              "      <td>0.107828</td>\n",
              "    </tr>\n",
              "    <tr>\n",
              "      <th>PhoneService</th>\n",
              "      <td>0.006100</td>\n",
              "    </tr>\n",
              "    <tr>\n",
              "      <th>MultipleLines</th>\n",
              "      <td>0.015301</td>\n",
              "    </tr>\n",
              "    <tr>\n",
              "      <th>InternetService</th>\n",
              "      <td>0.038836</td>\n",
              "    </tr>\n",
              "    <tr>\n",
              "      <th>OnlineSecurity</th>\n",
              "      <td>0.045710</td>\n",
              "    </tr>\n",
              "    <tr>\n",
              "      <th>OnlineBackup</th>\n",
              "      <td>0.019529</td>\n",
              "    </tr>\n",
              "    <tr>\n",
              "      <th>DeviceProtection</th>\n",
              "      <td>0.012280</td>\n",
              "    </tr>\n",
              "    <tr>\n",
              "      <th>TechSupport</th>\n",
              "      <td>0.015435</td>\n",
              "    </tr>\n",
              "    <tr>\n",
              "      <th>StreamingTV</th>\n",
              "      <td>0.009037</td>\n",
              "    </tr>\n",
              "    <tr>\n",
              "      <th>StreamingMovies</th>\n",
              "      <td>0.009986</td>\n",
              "    </tr>\n",
              "    <tr>\n",
              "      <th>Contract</th>\n",
              "      <td>0.330595</td>\n",
              "    </tr>\n",
              "    <tr>\n",
              "      <th>PaperlessBilling</th>\n",
              "      <td>0.015354</td>\n",
              "    </tr>\n",
              "    <tr>\n",
              "      <th>PaymentMethod</th>\n",
              "      <td>0.058146</td>\n",
              "    </tr>\n",
              "    <tr>\n",
              "      <th>MonthlyCharges</th>\n",
              "      <td>0.139466</td>\n",
              "    </tr>\n",
              "    <tr>\n",
              "      <th>TotalCharges</th>\n",
              "      <td>0.107409</td>\n",
              "    </tr>\n",
              "  </tbody>\n",
              "</table>\n",
              "</div>\n",
              "      <button class=\"colab-df-convert\" onclick=\"convertToInteractive('df-ec1b9b01-ff3a-496c-aafe-11bad9badcf1')\"\n",
              "              title=\"Convert this dataframe to an interactive table.\"\n",
              "              style=\"display:none;\">\n",
              "        \n",
              "  <svg xmlns=\"http://www.w3.org/2000/svg\" height=\"24px\"viewBox=\"0 0 24 24\"\n",
              "       width=\"24px\">\n",
              "    <path d=\"M0 0h24v24H0V0z\" fill=\"none\"/>\n",
              "    <path d=\"M18.56 5.44l.94 2.06.94-2.06 2.06-.94-2.06-.94-.94-2.06-.94 2.06-2.06.94zm-11 1L8.5 8.5l.94-2.06 2.06-.94-2.06-.94L8.5 2.5l-.94 2.06-2.06.94zm10 10l.94 2.06.94-2.06 2.06-.94-2.06-.94-.94-2.06-.94 2.06-2.06.94z\"/><path d=\"M17.41 7.96l-1.37-1.37c-.4-.4-.92-.59-1.43-.59-.52 0-1.04.2-1.43.59L10.3 9.45l-7.72 7.72c-.78.78-.78 2.05 0 2.83L4 21.41c.39.39.9.59 1.41.59.51 0 1.02-.2 1.41-.59l7.78-7.78 2.81-2.81c.8-.78.8-2.07 0-2.86zM5.41 20L4 18.59l7.72-7.72 1.47 1.35L5.41 20z\"/>\n",
              "  </svg>\n",
              "      </button>\n",
              "      \n",
              "  <style>\n",
              "    .colab-df-container {\n",
              "      display:flex;\n",
              "      flex-wrap:wrap;\n",
              "      gap: 12px;\n",
              "    }\n",
              "\n",
              "    .colab-df-convert {\n",
              "      background-color: #E8F0FE;\n",
              "      border: none;\n",
              "      border-radius: 50%;\n",
              "      cursor: pointer;\n",
              "      display: none;\n",
              "      fill: #1967D2;\n",
              "      height: 32px;\n",
              "      padding: 0 0 0 0;\n",
              "      width: 32px;\n",
              "    }\n",
              "\n",
              "    .colab-df-convert:hover {\n",
              "      background-color: #E2EBFA;\n",
              "      box-shadow: 0px 1px 2px rgba(60, 64, 67, 0.3), 0px 1px 3px 1px rgba(60, 64, 67, 0.15);\n",
              "      fill: #174EA6;\n",
              "    }\n",
              "\n",
              "    [theme=dark] .colab-df-convert {\n",
              "      background-color: #3B4455;\n",
              "      fill: #D2E3FC;\n",
              "    }\n",
              "\n",
              "    [theme=dark] .colab-df-convert:hover {\n",
              "      background-color: #434B5C;\n",
              "      box-shadow: 0px 1px 3px 1px rgba(0, 0, 0, 0.15);\n",
              "      filter: drop-shadow(0px 1px 2px rgba(0, 0, 0, 0.3));\n",
              "      fill: #FFFFFF;\n",
              "    }\n",
              "  </style>\n",
              "\n",
              "      <script>\n",
              "        const buttonEl =\n",
              "          document.querySelector('#df-ec1b9b01-ff3a-496c-aafe-11bad9badcf1 button.colab-df-convert');\n",
              "        buttonEl.style.display =\n",
              "          google.colab.kernel.accessAllowed ? 'block' : 'none';\n",
              "\n",
              "        async function convertToInteractive(key) {\n",
              "          const element = document.querySelector('#df-ec1b9b01-ff3a-496c-aafe-11bad9badcf1');\n",
              "          const dataTable =\n",
              "            await google.colab.kernel.invokeFunction('convertToInteractive',\n",
              "                                                     [key], {});\n",
              "          if (!dataTable) return;\n",
              "\n",
              "          const docLinkHtml = 'Like what you see? Visit the ' +\n",
              "            '<a target=\"_blank\" href=https://colab.research.google.com/notebooks/data_table.ipynb>data table notebook</a>'\n",
              "            + ' to learn more about interactive tables.';\n",
              "          element.innerHTML = '';\n",
              "          dataTable['output_type'] = 'display_data';\n",
              "          await google.colab.output.renderOutput(dataTable, element);\n",
              "          const docLink = document.createElement('div');\n",
              "          docLink.innerHTML = docLinkHtml;\n",
              "          element.appendChild(docLink);\n",
              "        }\n",
              "      </script>\n",
              "    </div>\n",
              "  </div>\n",
              "  "
            ]
          },
          "metadata": {},
          "execution_count": 146
        }
      ],
      "source": [
        "#checking featureimportance\n",
        "feauture_imp = pd.DataFrame(model_DT.feature_importances_, columns = [\"Feature Importance\"], index = x_train.columns)\n",
        "feauture_imp"
      ]
    },
    {
      "cell_type": "markdown",
      "metadata": {
        "id": "Hb84X5n6OBGy"
      },
      "source": [
        "hence we can see that contract, tenure, monthy charges and total charges have highest impact on the test variable"
      ]
    },
    {
      "cell_type": "code",
      "execution_count": null,
      "metadata": {
        "colab": {
          "base_uri": "https://localhost:8080/",
          "height": 112
        },
        "id": "OX98gqkj5n3B",
        "outputId": "596082fa-5bc9-4d48-fe7f-9539dff167b0"
      },
      "outputs": [
        {
          "output_type": "execute_result",
          "data": {
            "text/plain": [
              "                    Medthod  Accuracy\n",
              "0       Logistic Regression  0.249858\n",
              "1  Decision Tree Classifier  0.758660"
            ],
            "text/html": [
              "\n",
              "  <div id=\"df-7ca8a6ea-23b8-4f4f-b780-7a3e52162b5b\">\n",
              "    <div class=\"colab-df-container\">\n",
              "      <div>\n",
              "<style scoped>\n",
              "    .dataframe tbody tr th:only-of-type {\n",
              "        vertical-align: middle;\n",
              "    }\n",
              "\n",
              "    .dataframe tbody tr th {\n",
              "        vertical-align: top;\n",
              "    }\n",
              "\n",
              "    .dataframe thead th {\n",
              "        text-align: right;\n",
              "    }\n",
              "</style>\n",
              "<table border=\"1\" class=\"dataframe\">\n",
              "  <thead>\n",
              "    <tr style=\"text-align: right;\">\n",
              "      <th></th>\n",
              "      <th>Medthod</th>\n",
              "      <th>Accuracy</th>\n",
              "    </tr>\n",
              "  </thead>\n",
              "  <tbody>\n",
              "    <tr>\n",
              "      <th>0</th>\n",
              "      <td>Logistic Regression</td>\n",
              "      <td>0.249858</td>\n",
              "    </tr>\n",
              "    <tr>\n",
              "      <th>1</th>\n",
              "      <td>Decision Tree Classifier</td>\n",
              "      <td>0.758660</td>\n",
              "    </tr>\n",
              "  </tbody>\n",
              "</table>\n",
              "</div>\n",
              "      <button class=\"colab-df-convert\" onclick=\"convertToInteractive('df-7ca8a6ea-23b8-4f4f-b780-7a3e52162b5b')\"\n",
              "              title=\"Convert this dataframe to an interactive table.\"\n",
              "              style=\"display:none;\">\n",
              "        \n",
              "  <svg xmlns=\"http://www.w3.org/2000/svg\" height=\"24px\"viewBox=\"0 0 24 24\"\n",
              "       width=\"24px\">\n",
              "    <path d=\"M0 0h24v24H0V0z\" fill=\"none\"/>\n",
              "    <path d=\"M18.56 5.44l.94 2.06.94-2.06 2.06-.94-2.06-.94-.94-2.06-.94 2.06-2.06.94zm-11 1L8.5 8.5l.94-2.06 2.06-.94-2.06-.94L8.5 2.5l-.94 2.06-2.06.94zm10 10l.94 2.06.94-2.06 2.06-.94-2.06-.94-.94-2.06-.94 2.06-2.06.94z\"/><path d=\"M17.41 7.96l-1.37-1.37c-.4-.4-.92-.59-1.43-.59-.52 0-1.04.2-1.43.59L10.3 9.45l-7.72 7.72c-.78.78-.78 2.05 0 2.83L4 21.41c.39.39.9.59 1.41.59.51 0 1.02-.2 1.41-.59l7.78-7.78 2.81-2.81c.8-.78.8-2.07 0-2.86zM5.41 20L4 18.59l7.72-7.72 1.47 1.35L5.41 20z\"/>\n",
              "  </svg>\n",
              "      </button>\n",
              "      \n",
              "  <style>\n",
              "    .colab-df-container {\n",
              "      display:flex;\n",
              "      flex-wrap:wrap;\n",
              "      gap: 12px;\n",
              "    }\n",
              "\n",
              "    .colab-df-convert {\n",
              "      background-color: #E8F0FE;\n",
              "      border: none;\n",
              "      border-radius: 50%;\n",
              "      cursor: pointer;\n",
              "      display: none;\n",
              "      fill: #1967D2;\n",
              "      height: 32px;\n",
              "      padding: 0 0 0 0;\n",
              "      width: 32px;\n",
              "    }\n",
              "\n",
              "    .colab-df-convert:hover {\n",
              "      background-color: #E2EBFA;\n",
              "      box-shadow: 0px 1px 2px rgba(60, 64, 67, 0.3), 0px 1px 3px 1px rgba(60, 64, 67, 0.15);\n",
              "      fill: #174EA6;\n",
              "    }\n",
              "\n",
              "    [theme=dark] .colab-df-convert {\n",
              "      background-color: #3B4455;\n",
              "      fill: #D2E3FC;\n",
              "    }\n",
              "\n",
              "    [theme=dark] .colab-df-convert:hover {\n",
              "      background-color: #434B5C;\n",
              "      box-shadow: 0px 1px 3px 1px rgba(0, 0, 0, 0.15);\n",
              "      filter: drop-shadow(0px 1px 2px rgba(0, 0, 0, 0.3));\n",
              "      fill: #FFFFFF;\n",
              "    }\n",
              "  </style>\n",
              "\n",
              "      <script>\n",
              "        const buttonEl =\n",
              "          document.querySelector('#df-7ca8a6ea-23b8-4f4f-b780-7a3e52162b5b button.colab-df-convert');\n",
              "        buttonEl.style.display =\n",
              "          google.colab.kernel.accessAllowed ? 'block' : 'none';\n",
              "\n",
              "        async function convertToInteractive(key) {\n",
              "          const element = document.querySelector('#df-7ca8a6ea-23b8-4f4f-b780-7a3e52162b5b');\n",
              "          const dataTable =\n",
              "            await google.colab.kernel.invokeFunction('convertToInteractive',\n",
              "                                                     [key], {});\n",
              "          if (!dataTable) return;\n",
              "\n",
              "          const docLinkHtml = 'Like what you see? Visit the ' +\n",
              "            '<a target=\"_blank\" href=https://colab.research.google.com/notebooks/data_table.ipynb>data table notebook</a>'\n",
              "            + ' to learn more about interactive tables.';\n",
              "          element.innerHTML = '';\n",
              "          dataTable['output_type'] = 'display_data';\n",
              "          await google.colab.output.renderOutput(dataTable, element);\n",
              "          const docLink = document.createElement('div');\n",
              "          docLink.innerHTML = docLinkHtml;\n",
              "          element.appendChild(docLink);\n",
              "        }\n",
              "      </script>\n",
              "    </div>\n",
              "  </div>\n",
              "  "
            ]
          },
          "metadata": {},
          "execution_count": 147
        }
      ],
      "source": [
        "#displaying using dataframe\n",
        "df2 = pd.DataFrame({\"Medthod\":\"Decision Tree Classifier\", \"Accuracy\":DT_accuracy}, index = {1})\n",
        "df = df.append(df2)\n",
        "df"
      ]
    },
    {
      "cell_type": "markdown",
      "metadata": {
        "id": "iKegFTwu6T33"
      },
      "source": [
        "hence we can see that accuracy of Decision Tree classifier is much higher"
      ]
    },
    {
      "cell_type": "markdown",
      "metadata": {
        "id": "2kFZ2rAV6adZ"
      },
      "source": [
        "Random Forest"
      ]
    },
    {
      "cell_type": "code",
      "execution_count": null,
      "metadata": {
        "id": "ixoCNNsE6Z3z"
      },
      "outputs": [],
      "source": [
        "model_RF = RandomForestClassifier(random_state = 2)\n",
        "model_RF.fit(x_train, y_train)\n",
        "RF_predict = model_RF.predict(x_test)\n",
        "RF_accuracy = accuracy_score(y_test, RF_predict)"
      ]
    },
    {
      "cell_type": "code",
      "execution_count": null,
      "metadata": {
        "colab": {
          "base_uri": "https://localhost:8080/",
          "height": 143
        },
        "id": "T_Lm198fYWmP",
        "outputId": "2f96717d-52aa-4ec5-c09e-0421ab4c5d1f"
      },
      "outputs": [
        {
          "output_type": "execute_result",
          "data": {
            "text/plain": [
              "                    Medthod  Accuracy\n",
              "0       Logistic Regression  0.249858\n",
              "1  Decision Tree Classifier  0.758660\n",
              "2  Random Forest Classifier  0.749574"
            ],
            "text/html": [
              "\n",
              "  <div id=\"df-d67e848f-fe52-407a-8a8c-7653424964fe\">\n",
              "    <div class=\"colab-df-container\">\n",
              "      <div>\n",
              "<style scoped>\n",
              "    .dataframe tbody tr th:only-of-type {\n",
              "        vertical-align: middle;\n",
              "    }\n",
              "\n",
              "    .dataframe tbody tr th {\n",
              "        vertical-align: top;\n",
              "    }\n",
              "\n",
              "    .dataframe thead th {\n",
              "        text-align: right;\n",
              "    }\n",
              "</style>\n",
              "<table border=\"1\" class=\"dataframe\">\n",
              "  <thead>\n",
              "    <tr style=\"text-align: right;\">\n",
              "      <th></th>\n",
              "      <th>Medthod</th>\n",
              "      <th>Accuracy</th>\n",
              "    </tr>\n",
              "  </thead>\n",
              "  <tbody>\n",
              "    <tr>\n",
              "      <th>0</th>\n",
              "      <td>Logistic Regression</td>\n",
              "      <td>0.249858</td>\n",
              "    </tr>\n",
              "    <tr>\n",
              "      <th>1</th>\n",
              "      <td>Decision Tree Classifier</td>\n",
              "      <td>0.758660</td>\n",
              "    </tr>\n",
              "    <tr>\n",
              "      <th>2</th>\n",
              "      <td>Random Forest Classifier</td>\n",
              "      <td>0.749574</td>\n",
              "    </tr>\n",
              "  </tbody>\n",
              "</table>\n",
              "</div>\n",
              "      <button class=\"colab-df-convert\" onclick=\"convertToInteractive('df-d67e848f-fe52-407a-8a8c-7653424964fe')\"\n",
              "              title=\"Convert this dataframe to an interactive table.\"\n",
              "              style=\"display:none;\">\n",
              "        \n",
              "  <svg xmlns=\"http://www.w3.org/2000/svg\" height=\"24px\"viewBox=\"0 0 24 24\"\n",
              "       width=\"24px\">\n",
              "    <path d=\"M0 0h24v24H0V0z\" fill=\"none\"/>\n",
              "    <path d=\"M18.56 5.44l.94 2.06.94-2.06 2.06-.94-2.06-.94-.94-2.06-.94 2.06-2.06.94zm-11 1L8.5 8.5l.94-2.06 2.06-.94-2.06-.94L8.5 2.5l-.94 2.06-2.06.94zm10 10l.94 2.06.94-2.06 2.06-.94-2.06-.94-.94-2.06-.94 2.06-2.06.94z\"/><path d=\"M17.41 7.96l-1.37-1.37c-.4-.4-.92-.59-1.43-.59-.52 0-1.04.2-1.43.59L10.3 9.45l-7.72 7.72c-.78.78-.78 2.05 0 2.83L4 21.41c.39.39.9.59 1.41.59.51 0 1.02-.2 1.41-.59l7.78-7.78 2.81-2.81c.8-.78.8-2.07 0-2.86zM5.41 20L4 18.59l7.72-7.72 1.47 1.35L5.41 20z\"/>\n",
              "  </svg>\n",
              "      </button>\n",
              "      \n",
              "  <style>\n",
              "    .colab-df-container {\n",
              "      display:flex;\n",
              "      flex-wrap:wrap;\n",
              "      gap: 12px;\n",
              "    }\n",
              "\n",
              "    .colab-df-convert {\n",
              "      background-color: #E8F0FE;\n",
              "      border: none;\n",
              "      border-radius: 50%;\n",
              "      cursor: pointer;\n",
              "      display: none;\n",
              "      fill: #1967D2;\n",
              "      height: 32px;\n",
              "      padding: 0 0 0 0;\n",
              "      width: 32px;\n",
              "    }\n",
              "\n",
              "    .colab-df-convert:hover {\n",
              "      background-color: #E2EBFA;\n",
              "      box-shadow: 0px 1px 2px rgba(60, 64, 67, 0.3), 0px 1px 3px 1px rgba(60, 64, 67, 0.15);\n",
              "      fill: #174EA6;\n",
              "    }\n",
              "\n",
              "    [theme=dark] .colab-df-convert {\n",
              "      background-color: #3B4455;\n",
              "      fill: #D2E3FC;\n",
              "    }\n",
              "\n",
              "    [theme=dark] .colab-df-convert:hover {\n",
              "      background-color: #434B5C;\n",
              "      box-shadow: 0px 1px 3px 1px rgba(0, 0, 0, 0.15);\n",
              "      filter: drop-shadow(0px 1px 2px rgba(0, 0, 0, 0.3));\n",
              "      fill: #FFFFFF;\n",
              "    }\n",
              "  </style>\n",
              "\n",
              "      <script>\n",
              "        const buttonEl =\n",
              "          document.querySelector('#df-d67e848f-fe52-407a-8a8c-7653424964fe button.colab-df-convert');\n",
              "        buttonEl.style.display =\n",
              "          google.colab.kernel.accessAllowed ? 'block' : 'none';\n",
              "\n",
              "        async function convertToInteractive(key) {\n",
              "          const element = document.querySelector('#df-d67e848f-fe52-407a-8a8c-7653424964fe');\n",
              "          const dataTable =\n",
              "            await google.colab.kernel.invokeFunction('convertToInteractive',\n",
              "                                                     [key], {});\n",
              "          if (!dataTable) return;\n",
              "\n",
              "          const docLinkHtml = 'Like what you see? Visit the ' +\n",
              "            '<a target=\"_blank\" href=https://colab.research.google.com/notebooks/data_table.ipynb>data table notebook</a>'\n",
              "            + ' to learn more about interactive tables.';\n",
              "          element.innerHTML = '';\n",
              "          dataTable['output_type'] = 'display_data';\n",
              "          await google.colab.output.renderOutput(dataTable, element);\n",
              "          const docLink = document.createElement('div');\n",
              "          docLink.innerHTML = docLinkHtml;\n",
              "          element.appendChild(docLink);\n",
              "        }\n",
              "      </script>\n",
              "    </div>\n",
              "  </div>\n",
              "  "
            ]
          },
          "metadata": {},
          "execution_count": 149
        }
      ],
      "source": [
        "df3 = pd.DataFrame({\"Medthod\":\"Random Forest Classifier\", \"Accuracy\":RF_accuracy}, index = {2})\n",
        "df = df.append(df3)\n",
        "df"
      ]
    },
    {
      "cell_type": "markdown",
      "metadata": {
        "id": "foGqfXJ2mRB9"
      },
      "source": [
        "Using Pruned Decision Tree - by using some hyperparameters"
      ]
    },
    {
      "cell_type": "code",
      "execution_count": null,
      "metadata": {
        "id": "AhCSEeLknBhb"
      },
      "outputs": [],
      "source": [
        "model_DT_pruned = DecisionTreeClassifier(criterion = \"entropy\", max_depth= 12, min_samples_leaf= 2, random_state = 3)\n",
        "model_DT_pruned.fit(x_train, y_train)\n",
        "DT_pruned_predict = model_DT_pruned.predict(x_test)\n",
        "DT_pruned_accuracy = accuracy_score(y_test, DT_pruned_predict)"
      ]
    },
    {
      "cell_type": "code",
      "execution_count": null,
      "metadata": {
        "colab": {
          "base_uri": "https://localhost:8080/",
          "height": 175
        },
        "id": "bOj5NhiYoUBX",
        "outputId": "ecfb6693-2608-47cd-b316-2a29039497e8"
      },
      "outputs": [
        {
          "output_type": "execute_result",
          "data": {
            "text/plain": [
              "                    Medthod  Accuracy\n",
              "0       Logistic Regression  0.249858\n",
              "1  Decision Tree Classifier  0.758660\n",
              "2  Random Forest Classifier  0.749574\n",
              "3      Decision Tree Pruned  0.777967"
            ],
            "text/html": [
              "\n",
              "  <div id=\"df-25992745-8e42-4b44-aee2-7728fd0ada2e\">\n",
              "    <div class=\"colab-df-container\">\n",
              "      <div>\n",
              "<style scoped>\n",
              "    .dataframe tbody tr th:only-of-type {\n",
              "        vertical-align: middle;\n",
              "    }\n",
              "\n",
              "    .dataframe tbody tr th {\n",
              "        vertical-align: top;\n",
              "    }\n",
              "\n",
              "    .dataframe thead th {\n",
              "        text-align: right;\n",
              "    }\n",
              "</style>\n",
              "<table border=\"1\" class=\"dataframe\">\n",
              "  <thead>\n",
              "    <tr style=\"text-align: right;\">\n",
              "      <th></th>\n",
              "      <th>Medthod</th>\n",
              "      <th>Accuracy</th>\n",
              "    </tr>\n",
              "  </thead>\n",
              "  <tbody>\n",
              "    <tr>\n",
              "      <th>0</th>\n",
              "      <td>Logistic Regression</td>\n",
              "      <td>0.249858</td>\n",
              "    </tr>\n",
              "    <tr>\n",
              "      <th>1</th>\n",
              "      <td>Decision Tree Classifier</td>\n",
              "      <td>0.758660</td>\n",
              "    </tr>\n",
              "    <tr>\n",
              "      <th>2</th>\n",
              "      <td>Random Forest Classifier</td>\n",
              "      <td>0.749574</td>\n",
              "    </tr>\n",
              "    <tr>\n",
              "      <th>3</th>\n",
              "      <td>Decision Tree Pruned</td>\n",
              "      <td>0.777967</td>\n",
              "    </tr>\n",
              "  </tbody>\n",
              "</table>\n",
              "</div>\n",
              "      <button class=\"colab-df-convert\" onclick=\"convertToInteractive('df-25992745-8e42-4b44-aee2-7728fd0ada2e')\"\n",
              "              title=\"Convert this dataframe to an interactive table.\"\n",
              "              style=\"display:none;\">\n",
              "        \n",
              "  <svg xmlns=\"http://www.w3.org/2000/svg\" height=\"24px\"viewBox=\"0 0 24 24\"\n",
              "       width=\"24px\">\n",
              "    <path d=\"M0 0h24v24H0V0z\" fill=\"none\"/>\n",
              "    <path d=\"M18.56 5.44l.94 2.06.94-2.06 2.06-.94-2.06-.94-.94-2.06-.94 2.06-2.06.94zm-11 1L8.5 8.5l.94-2.06 2.06-.94-2.06-.94L8.5 2.5l-.94 2.06-2.06.94zm10 10l.94 2.06.94-2.06 2.06-.94-2.06-.94-.94-2.06-.94 2.06-2.06.94z\"/><path d=\"M17.41 7.96l-1.37-1.37c-.4-.4-.92-.59-1.43-.59-.52 0-1.04.2-1.43.59L10.3 9.45l-7.72 7.72c-.78.78-.78 2.05 0 2.83L4 21.41c.39.39.9.59 1.41.59.51 0 1.02-.2 1.41-.59l7.78-7.78 2.81-2.81c.8-.78.8-2.07 0-2.86zM5.41 20L4 18.59l7.72-7.72 1.47 1.35L5.41 20z\"/>\n",
              "  </svg>\n",
              "      </button>\n",
              "      \n",
              "  <style>\n",
              "    .colab-df-container {\n",
              "      display:flex;\n",
              "      flex-wrap:wrap;\n",
              "      gap: 12px;\n",
              "    }\n",
              "\n",
              "    .colab-df-convert {\n",
              "      background-color: #E8F0FE;\n",
              "      border: none;\n",
              "      border-radius: 50%;\n",
              "      cursor: pointer;\n",
              "      display: none;\n",
              "      fill: #1967D2;\n",
              "      height: 32px;\n",
              "      padding: 0 0 0 0;\n",
              "      width: 32px;\n",
              "    }\n",
              "\n",
              "    .colab-df-convert:hover {\n",
              "      background-color: #E2EBFA;\n",
              "      box-shadow: 0px 1px 2px rgba(60, 64, 67, 0.3), 0px 1px 3px 1px rgba(60, 64, 67, 0.15);\n",
              "      fill: #174EA6;\n",
              "    }\n",
              "\n",
              "    [theme=dark] .colab-df-convert {\n",
              "      background-color: #3B4455;\n",
              "      fill: #D2E3FC;\n",
              "    }\n",
              "\n",
              "    [theme=dark] .colab-df-convert:hover {\n",
              "      background-color: #434B5C;\n",
              "      box-shadow: 0px 1px 3px 1px rgba(0, 0, 0, 0.15);\n",
              "      filter: drop-shadow(0px 1px 2px rgba(0, 0, 0, 0.3));\n",
              "      fill: #FFFFFF;\n",
              "    }\n",
              "  </style>\n",
              "\n",
              "      <script>\n",
              "        const buttonEl =\n",
              "          document.querySelector('#df-25992745-8e42-4b44-aee2-7728fd0ada2e button.colab-df-convert');\n",
              "        buttonEl.style.display =\n",
              "          google.colab.kernel.accessAllowed ? 'block' : 'none';\n",
              "\n",
              "        async function convertToInteractive(key) {\n",
              "          const element = document.querySelector('#df-25992745-8e42-4b44-aee2-7728fd0ada2e');\n",
              "          const dataTable =\n",
              "            await google.colab.kernel.invokeFunction('convertToInteractive',\n",
              "                                                     [key], {});\n",
              "          if (!dataTable) return;\n",
              "\n",
              "          const docLinkHtml = 'Like what you see? Visit the ' +\n",
              "            '<a target=\"_blank\" href=https://colab.research.google.com/notebooks/data_table.ipynb>data table notebook</a>'\n",
              "            + ' to learn more about interactive tables.';\n",
              "          element.innerHTML = '';\n",
              "          dataTable['output_type'] = 'display_data';\n",
              "          await google.colab.output.renderOutput(dataTable, element);\n",
              "          const docLink = document.createElement('div');\n",
              "          docLink.innerHTML = docLinkHtml;\n",
              "          element.appendChild(docLink);\n",
              "        }\n",
              "      </script>\n",
              "    </div>\n",
              "  </div>\n",
              "  "
            ]
          },
          "metadata": {},
          "execution_count": 151
        }
      ],
      "source": [
        "df4 = pd.DataFrame({\"Medthod\":\"Decision Tree Pruned\", \"Accuracy\":DT_pruned_accuracy}, index = {3})\n",
        "df = df.append(df4)\n",
        "df"
      ]
    },
    {
      "cell_type": "markdown",
      "source": [
        "hence accuracy is increased for regularized decission tree"
      ],
      "metadata": {
        "id": "KwVBEqJrElK1"
      }
    },
    {
      "cell_type": "markdown",
      "metadata": {
        "id": "j3ZnxkVeoxmT"
      },
      "source": [
        "Ensemble Methods - Bagging"
      ]
    },
    {
      "cell_type": "code",
      "execution_count": null,
      "metadata": {
        "id": "O4Iv20uio2dk"
      },
      "outputs": [],
      "source": [
        "model_Bag = BaggingClassifier(base_estimator = model_DT, n_estimators = 60, random_state = 2) #specifying base classfiier as Decission Tree, and no of samplesubsets = 60\n",
        "model_Bag.fit(x_train, y_train)\n",
        "Bag_predict = model_Bag.predict(x_test)\n",
        "Bag_accuracy = accuracy_score(y_test, Bag_predict)"
      ]
    },
    {
      "cell_type": "code",
      "execution_count": null,
      "metadata": {
        "colab": {
          "base_uri": "https://localhost:8080/",
          "height": 206
        },
        "id": "qO_zWW7YqxjG",
        "outputId": "63a124c9-2d10-44ee-dae9-a6e0285b4f28"
      },
      "outputs": [
        {
          "output_type": "execute_result",
          "data": {
            "text/plain": [
              "                    Medthod  Accuracy\n",
              "0       Logistic Regression  0.249858\n",
              "1  Decision Tree Classifier  0.758660\n",
              "2  Random Forest Classifier  0.749574\n",
              "3      Decision Tree Pruned  0.777967\n",
              "4        Bagging Classifier  0.746167"
            ],
            "text/html": [
              "\n",
              "  <div id=\"df-b3b75eb5-92c0-4fb3-af2a-31cd9d199b6d\">\n",
              "    <div class=\"colab-df-container\">\n",
              "      <div>\n",
              "<style scoped>\n",
              "    .dataframe tbody tr th:only-of-type {\n",
              "        vertical-align: middle;\n",
              "    }\n",
              "\n",
              "    .dataframe tbody tr th {\n",
              "        vertical-align: top;\n",
              "    }\n",
              "\n",
              "    .dataframe thead th {\n",
              "        text-align: right;\n",
              "    }\n",
              "</style>\n",
              "<table border=\"1\" class=\"dataframe\">\n",
              "  <thead>\n",
              "    <tr style=\"text-align: right;\">\n",
              "      <th></th>\n",
              "      <th>Medthod</th>\n",
              "      <th>Accuracy</th>\n",
              "    </tr>\n",
              "  </thead>\n",
              "  <tbody>\n",
              "    <tr>\n",
              "      <th>0</th>\n",
              "      <td>Logistic Regression</td>\n",
              "      <td>0.249858</td>\n",
              "    </tr>\n",
              "    <tr>\n",
              "      <th>1</th>\n",
              "      <td>Decision Tree Classifier</td>\n",
              "      <td>0.758660</td>\n",
              "    </tr>\n",
              "    <tr>\n",
              "      <th>2</th>\n",
              "      <td>Random Forest Classifier</td>\n",
              "      <td>0.749574</td>\n",
              "    </tr>\n",
              "    <tr>\n",
              "      <th>3</th>\n",
              "      <td>Decision Tree Pruned</td>\n",
              "      <td>0.777967</td>\n",
              "    </tr>\n",
              "    <tr>\n",
              "      <th>4</th>\n",
              "      <td>Bagging Classifier</td>\n",
              "      <td>0.746167</td>\n",
              "    </tr>\n",
              "  </tbody>\n",
              "</table>\n",
              "</div>\n",
              "      <button class=\"colab-df-convert\" onclick=\"convertToInteractive('df-b3b75eb5-92c0-4fb3-af2a-31cd9d199b6d')\"\n",
              "              title=\"Convert this dataframe to an interactive table.\"\n",
              "              style=\"display:none;\">\n",
              "        \n",
              "  <svg xmlns=\"http://www.w3.org/2000/svg\" height=\"24px\"viewBox=\"0 0 24 24\"\n",
              "       width=\"24px\">\n",
              "    <path d=\"M0 0h24v24H0V0z\" fill=\"none\"/>\n",
              "    <path d=\"M18.56 5.44l.94 2.06.94-2.06 2.06-.94-2.06-.94-.94-2.06-.94 2.06-2.06.94zm-11 1L8.5 8.5l.94-2.06 2.06-.94-2.06-.94L8.5 2.5l-.94 2.06-2.06.94zm10 10l.94 2.06.94-2.06 2.06-.94-2.06-.94-.94-2.06-.94 2.06-2.06.94z\"/><path d=\"M17.41 7.96l-1.37-1.37c-.4-.4-.92-.59-1.43-.59-.52 0-1.04.2-1.43.59L10.3 9.45l-7.72 7.72c-.78.78-.78 2.05 0 2.83L4 21.41c.39.39.9.59 1.41.59.51 0 1.02-.2 1.41-.59l7.78-7.78 2.81-2.81c.8-.78.8-2.07 0-2.86zM5.41 20L4 18.59l7.72-7.72 1.47 1.35L5.41 20z\"/>\n",
              "  </svg>\n",
              "      </button>\n",
              "      \n",
              "  <style>\n",
              "    .colab-df-container {\n",
              "      display:flex;\n",
              "      flex-wrap:wrap;\n",
              "      gap: 12px;\n",
              "    }\n",
              "\n",
              "    .colab-df-convert {\n",
              "      background-color: #E8F0FE;\n",
              "      border: none;\n",
              "      border-radius: 50%;\n",
              "      cursor: pointer;\n",
              "      display: none;\n",
              "      fill: #1967D2;\n",
              "      height: 32px;\n",
              "      padding: 0 0 0 0;\n",
              "      width: 32px;\n",
              "    }\n",
              "\n",
              "    .colab-df-convert:hover {\n",
              "      background-color: #E2EBFA;\n",
              "      box-shadow: 0px 1px 2px rgba(60, 64, 67, 0.3), 0px 1px 3px 1px rgba(60, 64, 67, 0.15);\n",
              "      fill: #174EA6;\n",
              "    }\n",
              "\n",
              "    [theme=dark] .colab-df-convert {\n",
              "      background-color: #3B4455;\n",
              "      fill: #D2E3FC;\n",
              "    }\n",
              "\n",
              "    [theme=dark] .colab-df-convert:hover {\n",
              "      background-color: #434B5C;\n",
              "      box-shadow: 0px 1px 3px 1px rgba(0, 0, 0, 0.15);\n",
              "      filter: drop-shadow(0px 1px 2px rgba(0, 0, 0, 0.3));\n",
              "      fill: #FFFFFF;\n",
              "    }\n",
              "  </style>\n",
              "\n",
              "      <script>\n",
              "        const buttonEl =\n",
              "          document.querySelector('#df-b3b75eb5-92c0-4fb3-af2a-31cd9d199b6d button.colab-df-convert');\n",
              "        buttonEl.style.display =\n",
              "          google.colab.kernel.accessAllowed ? 'block' : 'none';\n",
              "\n",
              "        async function convertToInteractive(key) {\n",
              "          const element = document.querySelector('#df-b3b75eb5-92c0-4fb3-af2a-31cd9d199b6d');\n",
              "          const dataTable =\n",
              "            await google.colab.kernel.invokeFunction('convertToInteractive',\n",
              "                                                     [key], {});\n",
              "          if (!dataTable) return;\n",
              "\n",
              "          const docLinkHtml = 'Like what you see? Visit the ' +\n",
              "            '<a target=\"_blank\" href=https://colab.research.google.com/notebooks/data_table.ipynb>data table notebook</a>'\n",
              "            + ' to learn more about interactive tables.';\n",
              "          element.innerHTML = '';\n",
              "          dataTable['output_type'] = 'display_data';\n",
              "          await google.colab.output.renderOutput(dataTable, element);\n",
              "          const docLink = document.createElement('div');\n",
              "          docLink.innerHTML = docLinkHtml;\n",
              "          element.appendChild(docLink);\n",
              "        }\n",
              "      </script>\n",
              "    </div>\n",
              "  </div>\n",
              "  "
            ]
          },
          "metadata": {},
          "execution_count": 153
        }
      ],
      "source": [
        "df5 = pd.DataFrame({\"Medthod\":\"Bagging Classifier\", \"Accuracy\":Bag_accuracy}, index = {4})\n",
        "df = df.append(df5)\n",
        "df"
      ]
    },
    {
      "cell_type": "markdown",
      "metadata": {
        "id": "sncE1roWrBE2"
      },
      "source": [
        "Ada Boost"
      ]
    },
    {
      "cell_type": "code",
      "execution_count": null,
      "metadata": {
        "id": "1gaNB2mirAI8"
      },
      "outputs": [],
      "source": [
        "model_Ada = AdaBoostClassifier(n_estimators=50, base_estimator = model_RF, random_state =5 )\n",
        "model_Ada.fit(x_train, y_train)\n",
        "Ada_predict = model_Ada.predict(x_test)\n",
        "accuracy_Ada = accuracy_score(y_test, Ada_predict)"
      ]
    },
    {
      "cell_type": "code",
      "execution_count": null,
      "metadata": {
        "colab": {
          "base_uri": "https://localhost:8080/",
          "height": 238
        },
        "id": "vBNaOr2exxjj",
        "outputId": "478c6fb1-d769-4d34-909a-4114355d1648"
      },
      "outputs": [
        {
          "output_type": "execute_result",
          "data": {
            "text/plain": [
              "                    Medthod  Accuracy\n",
              "0       Logistic Regression  0.249858\n",
              "1  Decision Tree Classifier  0.758660\n",
              "2  Random Forest Classifier  0.749574\n",
              "3      Decision Tree Pruned  0.777967\n",
              "4        Bagging Classifier  0.746167\n",
              "5      Ada Boost Classifier  0.750142"
            ],
            "text/html": [
              "\n",
              "  <div id=\"df-00e14e67-1ee9-4645-8cbb-7fcd77f248a1\">\n",
              "    <div class=\"colab-df-container\">\n",
              "      <div>\n",
              "<style scoped>\n",
              "    .dataframe tbody tr th:only-of-type {\n",
              "        vertical-align: middle;\n",
              "    }\n",
              "\n",
              "    .dataframe tbody tr th {\n",
              "        vertical-align: top;\n",
              "    }\n",
              "\n",
              "    .dataframe thead th {\n",
              "        text-align: right;\n",
              "    }\n",
              "</style>\n",
              "<table border=\"1\" class=\"dataframe\">\n",
              "  <thead>\n",
              "    <tr style=\"text-align: right;\">\n",
              "      <th></th>\n",
              "      <th>Medthod</th>\n",
              "      <th>Accuracy</th>\n",
              "    </tr>\n",
              "  </thead>\n",
              "  <tbody>\n",
              "    <tr>\n",
              "      <th>0</th>\n",
              "      <td>Logistic Regression</td>\n",
              "      <td>0.249858</td>\n",
              "    </tr>\n",
              "    <tr>\n",
              "      <th>1</th>\n",
              "      <td>Decision Tree Classifier</td>\n",
              "      <td>0.758660</td>\n",
              "    </tr>\n",
              "    <tr>\n",
              "      <th>2</th>\n",
              "      <td>Random Forest Classifier</td>\n",
              "      <td>0.749574</td>\n",
              "    </tr>\n",
              "    <tr>\n",
              "      <th>3</th>\n",
              "      <td>Decision Tree Pruned</td>\n",
              "      <td>0.777967</td>\n",
              "    </tr>\n",
              "    <tr>\n",
              "      <th>4</th>\n",
              "      <td>Bagging Classifier</td>\n",
              "      <td>0.746167</td>\n",
              "    </tr>\n",
              "    <tr>\n",
              "      <th>5</th>\n",
              "      <td>Ada Boost Classifier</td>\n",
              "      <td>0.750142</td>\n",
              "    </tr>\n",
              "  </tbody>\n",
              "</table>\n",
              "</div>\n",
              "      <button class=\"colab-df-convert\" onclick=\"convertToInteractive('df-00e14e67-1ee9-4645-8cbb-7fcd77f248a1')\"\n",
              "              title=\"Convert this dataframe to an interactive table.\"\n",
              "              style=\"display:none;\">\n",
              "        \n",
              "  <svg xmlns=\"http://www.w3.org/2000/svg\" height=\"24px\"viewBox=\"0 0 24 24\"\n",
              "       width=\"24px\">\n",
              "    <path d=\"M0 0h24v24H0V0z\" fill=\"none\"/>\n",
              "    <path d=\"M18.56 5.44l.94 2.06.94-2.06 2.06-.94-2.06-.94-.94-2.06-.94 2.06-2.06.94zm-11 1L8.5 8.5l.94-2.06 2.06-.94-2.06-.94L8.5 2.5l-.94 2.06-2.06.94zm10 10l.94 2.06.94-2.06 2.06-.94-2.06-.94-.94-2.06-.94 2.06-2.06.94z\"/><path d=\"M17.41 7.96l-1.37-1.37c-.4-.4-.92-.59-1.43-.59-.52 0-1.04.2-1.43.59L10.3 9.45l-7.72 7.72c-.78.78-.78 2.05 0 2.83L4 21.41c.39.39.9.59 1.41.59.51 0 1.02-.2 1.41-.59l7.78-7.78 2.81-2.81c.8-.78.8-2.07 0-2.86zM5.41 20L4 18.59l7.72-7.72 1.47 1.35L5.41 20z\"/>\n",
              "  </svg>\n",
              "      </button>\n",
              "      \n",
              "  <style>\n",
              "    .colab-df-container {\n",
              "      display:flex;\n",
              "      flex-wrap:wrap;\n",
              "      gap: 12px;\n",
              "    }\n",
              "\n",
              "    .colab-df-convert {\n",
              "      background-color: #E8F0FE;\n",
              "      border: none;\n",
              "      border-radius: 50%;\n",
              "      cursor: pointer;\n",
              "      display: none;\n",
              "      fill: #1967D2;\n",
              "      height: 32px;\n",
              "      padding: 0 0 0 0;\n",
              "      width: 32px;\n",
              "    }\n",
              "\n",
              "    .colab-df-convert:hover {\n",
              "      background-color: #E2EBFA;\n",
              "      box-shadow: 0px 1px 2px rgba(60, 64, 67, 0.3), 0px 1px 3px 1px rgba(60, 64, 67, 0.15);\n",
              "      fill: #174EA6;\n",
              "    }\n",
              "\n",
              "    [theme=dark] .colab-df-convert {\n",
              "      background-color: #3B4455;\n",
              "      fill: #D2E3FC;\n",
              "    }\n",
              "\n",
              "    [theme=dark] .colab-df-convert:hover {\n",
              "      background-color: #434B5C;\n",
              "      box-shadow: 0px 1px 3px 1px rgba(0, 0, 0, 0.15);\n",
              "      filter: drop-shadow(0px 1px 2px rgba(0, 0, 0, 0.3));\n",
              "      fill: #FFFFFF;\n",
              "    }\n",
              "  </style>\n",
              "\n",
              "      <script>\n",
              "        const buttonEl =\n",
              "          document.querySelector('#df-00e14e67-1ee9-4645-8cbb-7fcd77f248a1 button.colab-df-convert');\n",
              "        buttonEl.style.display =\n",
              "          google.colab.kernel.accessAllowed ? 'block' : 'none';\n",
              "\n",
              "        async function convertToInteractive(key) {\n",
              "          const element = document.querySelector('#df-00e14e67-1ee9-4645-8cbb-7fcd77f248a1');\n",
              "          const dataTable =\n",
              "            await google.colab.kernel.invokeFunction('convertToInteractive',\n",
              "                                                     [key], {});\n",
              "          if (!dataTable) return;\n",
              "\n",
              "          const docLinkHtml = 'Like what you see? Visit the ' +\n",
              "            '<a target=\"_blank\" href=https://colab.research.google.com/notebooks/data_table.ipynb>data table notebook</a>'\n",
              "            + ' to learn more about interactive tables.';\n",
              "          element.innerHTML = '';\n",
              "          dataTable['output_type'] = 'display_data';\n",
              "          await google.colab.output.renderOutput(dataTable, element);\n",
              "          const docLink = document.createElement('div');\n",
              "          docLink.innerHTML = docLinkHtml;\n",
              "          element.appendChild(docLink);\n",
              "        }\n",
              "      </script>\n",
              "    </div>\n",
              "  </div>\n",
              "  "
            ]
          },
          "metadata": {},
          "execution_count": 155
        }
      ],
      "source": [
        "df6 = pd.DataFrame({\"Medthod\":\"Ada Boost Classifier\", \"Accuracy\":accuracy_Ada}, index = {5})\n",
        "df = df.append(df6)\n",
        "df"
      ]
    },
    {
      "cell_type": "markdown",
      "metadata": {
        "id": "eDZdGslqyHhB"
      },
      "source": [
        "Gradient Boost"
      ]
    },
    {
      "cell_type": "code",
      "execution_count": null,
      "metadata": {
        "id": "gleO7JZeyG71"
      },
      "outputs": [],
      "source": [
        "model_Grad = GradientBoostingClassifier(n_estimators = 100, learning_rate=0.1, random_state = 5) #specifying learning rate less, means from each sample the model will learn little\n",
        "model_Grad.fit(x_train, y_train)\n",
        "Grad_predict= model_Grad.predict(x_test)\n",
        "accuracy_Grad = accuracy_score(y_test, Grad_predict)\n"
      ]
    },
    {
      "cell_type": "code",
      "execution_count": null,
      "metadata": {
        "colab": {
          "base_uri": "https://localhost:8080/",
          "height": 269
        },
        "id": "lv5KH21d1hCj",
        "outputId": "4c7340aa-8ce0-46ef-8763-e5acdb2df61c"
      },
      "outputs": [
        {
          "output_type": "execute_result",
          "data": {
            "text/plain": [
              "                     Medthod  Accuracy\n",
              "0        Logistic Regression  0.249858\n",
              "1   Decision Tree Classifier  0.758660\n",
              "2   Random Forest Classifier  0.749574\n",
              "3       Decision Tree Pruned  0.777967\n",
              "4         Bagging Classifier  0.746167\n",
              "5       Ada Boost Classifier  0.750142\n",
              "6  Gradient Boost Classifier  0.753549"
            ],
            "text/html": [
              "\n",
              "  <div id=\"df-efea18db-c293-4530-890c-642784aad052\">\n",
              "    <div class=\"colab-df-container\">\n",
              "      <div>\n",
              "<style scoped>\n",
              "    .dataframe tbody tr th:only-of-type {\n",
              "        vertical-align: middle;\n",
              "    }\n",
              "\n",
              "    .dataframe tbody tr th {\n",
              "        vertical-align: top;\n",
              "    }\n",
              "\n",
              "    .dataframe thead th {\n",
              "        text-align: right;\n",
              "    }\n",
              "</style>\n",
              "<table border=\"1\" class=\"dataframe\">\n",
              "  <thead>\n",
              "    <tr style=\"text-align: right;\">\n",
              "      <th></th>\n",
              "      <th>Medthod</th>\n",
              "      <th>Accuracy</th>\n",
              "    </tr>\n",
              "  </thead>\n",
              "  <tbody>\n",
              "    <tr>\n",
              "      <th>0</th>\n",
              "      <td>Logistic Regression</td>\n",
              "      <td>0.249858</td>\n",
              "    </tr>\n",
              "    <tr>\n",
              "      <th>1</th>\n",
              "      <td>Decision Tree Classifier</td>\n",
              "      <td>0.758660</td>\n",
              "    </tr>\n",
              "    <tr>\n",
              "      <th>2</th>\n",
              "      <td>Random Forest Classifier</td>\n",
              "      <td>0.749574</td>\n",
              "    </tr>\n",
              "    <tr>\n",
              "      <th>3</th>\n",
              "      <td>Decision Tree Pruned</td>\n",
              "      <td>0.777967</td>\n",
              "    </tr>\n",
              "    <tr>\n",
              "      <th>4</th>\n",
              "      <td>Bagging Classifier</td>\n",
              "      <td>0.746167</td>\n",
              "    </tr>\n",
              "    <tr>\n",
              "      <th>5</th>\n",
              "      <td>Ada Boost Classifier</td>\n",
              "      <td>0.750142</td>\n",
              "    </tr>\n",
              "    <tr>\n",
              "      <th>6</th>\n",
              "      <td>Gradient Boost Classifier</td>\n",
              "      <td>0.753549</td>\n",
              "    </tr>\n",
              "  </tbody>\n",
              "</table>\n",
              "</div>\n",
              "      <button class=\"colab-df-convert\" onclick=\"convertToInteractive('df-efea18db-c293-4530-890c-642784aad052')\"\n",
              "              title=\"Convert this dataframe to an interactive table.\"\n",
              "              style=\"display:none;\">\n",
              "        \n",
              "  <svg xmlns=\"http://www.w3.org/2000/svg\" height=\"24px\"viewBox=\"0 0 24 24\"\n",
              "       width=\"24px\">\n",
              "    <path d=\"M0 0h24v24H0V0z\" fill=\"none\"/>\n",
              "    <path d=\"M18.56 5.44l.94 2.06.94-2.06 2.06-.94-2.06-.94-.94-2.06-.94 2.06-2.06.94zm-11 1L8.5 8.5l.94-2.06 2.06-.94-2.06-.94L8.5 2.5l-.94 2.06-2.06.94zm10 10l.94 2.06.94-2.06 2.06-.94-2.06-.94-.94-2.06-.94 2.06-2.06.94z\"/><path d=\"M17.41 7.96l-1.37-1.37c-.4-.4-.92-.59-1.43-.59-.52 0-1.04.2-1.43.59L10.3 9.45l-7.72 7.72c-.78.78-.78 2.05 0 2.83L4 21.41c.39.39.9.59 1.41.59.51 0 1.02-.2 1.41-.59l7.78-7.78 2.81-2.81c.8-.78.8-2.07 0-2.86zM5.41 20L4 18.59l7.72-7.72 1.47 1.35L5.41 20z\"/>\n",
              "  </svg>\n",
              "      </button>\n",
              "      \n",
              "  <style>\n",
              "    .colab-df-container {\n",
              "      display:flex;\n",
              "      flex-wrap:wrap;\n",
              "      gap: 12px;\n",
              "    }\n",
              "\n",
              "    .colab-df-convert {\n",
              "      background-color: #E8F0FE;\n",
              "      border: none;\n",
              "      border-radius: 50%;\n",
              "      cursor: pointer;\n",
              "      display: none;\n",
              "      fill: #1967D2;\n",
              "      height: 32px;\n",
              "      padding: 0 0 0 0;\n",
              "      width: 32px;\n",
              "    }\n",
              "\n",
              "    .colab-df-convert:hover {\n",
              "      background-color: #E2EBFA;\n",
              "      box-shadow: 0px 1px 2px rgba(60, 64, 67, 0.3), 0px 1px 3px 1px rgba(60, 64, 67, 0.15);\n",
              "      fill: #174EA6;\n",
              "    }\n",
              "\n",
              "    [theme=dark] .colab-df-convert {\n",
              "      background-color: #3B4455;\n",
              "      fill: #D2E3FC;\n",
              "    }\n",
              "\n",
              "    [theme=dark] .colab-df-convert:hover {\n",
              "      background-color: #434B5C;\n",
              "      box-shadow: 0px 1px 3px 1px rgba(0, 0, 0, 0.15);\n",
              "      filter: drop-shadow(0px 1px 2px rgba(0, 0, 0, 0.3));\n",
              "      fill: #FFFFFF;\n",
              "    }\n",
              "  </style>\n",
              "\n",
              "      <script>\n",
              "        const buttonEl =\n",
              "          document.querySelector('#df-efea18db-c293-4530-890c-642784aad052 button.colab-df-convert');\n",
              "        buttonEl.style.display =\n",
              "          google.colab.kernel.accessAllowed ? 'block' : 'none';\n",
              "\n",
              "        async function convertToInteractive(key) {\n",
              "          const element = document.querySelector('#df-efea18db-c293-4530-890c-642784aad052');\n",
              "          const dataTable =\n",
              "            await google.colab.kernel.invokeFunction('convertToInteractive',\n",
              "                                                     [key], {});\n",
              "          if (!dataTable) return;\n",
              "\n",
              "          const docLinkHtml = 'Like what you see? Visit the ' +\n",
              "            '<a target=\"_blank\" href=https://colab.research.google.com/notebooks/data_table.ipynb>data table notebook</a>'\n",
              "            + ' to learn more about interactive tables.';\n",
              "          element.innerHTML = '';\n",
              "          dataTable['output_type'] = 'display_data';\n",
              "          await google.colab.output.renderOutput(dataTable, element);\n",
              "          const docLink = document.createElement('div');\n",
              "          docLink.innerHTML = docLinkHtml;\n",
              "          element.appendChild(docLink);\n",
              "        }\n",
              "      </script>\n",
              "    </div>\n",
              "  </div>\n",
              "  "
            ]
          },
          "metadata": {},
          "execution_count": 157
        }
      ],
      "source": [
        "df7 = pd.DataFrame({\"Medthod\":\"Gradient Boost Classifier\", \"Accuracy\":accuracy_Grad}, index = {6})\n",
        "df = df.append(df7)\n",
        "df"
      ]
    },
    {
      "cell_type": "markdown",
      "metadata": {
        "id": "rLuPE_Pp1rhy"
      },
      "source": [
        "hence from above models, best highest accuracy is for Decision Tree Classifier"
      ]
    },
    {
      "cell_type": "markdown",
      "metadata": {
        "id": "IUkW3lED_3TE"
      },
      "source": [
        "**Hyper Parameter Tuning**\n",
        "Using K fold cross Validation"
      ]
    },
    {
      "cell_type": "code",
      "execution_count": null,
      "metadata": {
        "colab": {
          "base_uri": "https://localhost:8080/"
        },
        "id": "DnGJk5ao_y3e",
        "outputId": "0bac4529-a55c-4a2b-9ff1-a53787d578f2"
      },
      "outputs": [
        {
          "output_type": "stream",
          "name": "stdout",
          "text": [
            "[0.80039722 0.79125249 0.81510934 0.78827038 0.80516899 0.79522863\n",
            " 0.80815109]\n",
            "Accuracy is 80.05%\n"
          ]
        }
      ],
      "source": [
        "from sklearn.model_selection import KFold\n",
        "from sklearn.model_selection import cross_val_score\n",
        "import warnings #needed to ignore the warrnings displayed, and to print the final output\n",
        "warnings.filterwarnings('ignore')\n",
        "kfold = KFold(n_splits = 7, shuffle = False) #here our data will be divided into 7 folds, numer of data points in each fold = n/k\n",
        "results = cross_val_score(model_LR, x, y, cv = kfold)\n",
        "print(results)\n",
        "print(\"Accuracy is %0.2f%%\"%(results.mean()*100))"
      ]
    },
    {
      "cell_type": "markdown",
      "metadata": {
        "id": "uUWhkyTBKqaF"
      },
      "source": [
        "Hence we can see that using K fold Cross Validation, our model accuracy has highly increased"
      ]
    },
    {
      "cell_type": "markdown",
      "metadata": {
        "id": "GMRz0yV5K9Lv"
      },
      "source": [
        "Hyper Parameter Tuning - **Using Grid Search CV**\n"
      ]
    },
    {
      "cell_type": "markdown",
      "metadata": {
        "id": "utRgybfp17UP"
      },
      "source": [
        "Using grid search Cv for random Forest Classifier , for deciding the value for number of samples to divide the data set into"
      ]
    },
    {
      "cell_type": "code",
      "execution_count": null,
      "metadata": {
        "id": "AYWBof3CLEp_",
        "colab": {
          "base_uri": "https://localhost:8080/"
        },
        "outputId": "1fc68b71-4807-40ec-9ce2-841fd8d0dce2"
      },
      "outputs": [
        {
          "output_type": "execute_result",
          "data": {
            "text/plain": [
              "GridSearchCV(estimator=RandomForestClassifier(random_state=2),\n",
              "             param_grid={'n_estimators': [10, 11, 12, 13, 14, 15, 16, 17, 18,\n",
              "                                          19]},\n",
              "             return_train_score=True)"
            ]
          },
          "metadata": {},
          "execution_count": 159
        }
      ],
      "source": [
        "param_values = {\"n_estimators\" : list(range(10,20))}\n",
        "gcv = GridSearchCV(estimator = model_RF, param_grid = param_values, return_train_score = True) #applying Grid Search CV for model Ranfom Forest, for a range of n_estimator values\n",
        "gcv.fit(x_train, y_train)"
      ]
    },
    {
      "cell_type": "code",
      "execution_count": null,
      "metadata": {
        "colab": {
          "base_uri": "https://localhost:8080/",
          "height": 630
        },
        "id": "4lJFEHUO3k50",
        "outputId": "05985b67-7665-47ed-f854-44a39d0596e4"
      },
      "outputs": [
        {
          "output_type": "execute_result",
          "data": {
            "text/plain": [
              "   mean_fit_time  std_fit_time  mean_score_time  std_score_time  \\\n",
              "0       0.092603      0.012989         0.006874        0.000599   \n",
              "1       0.094839      0.004466         0.006849        0.000418   \n",
              "2       0.103376      0.005135         0.006822        0.000195   \n",
              "3       0.103924      0.002840         0.007087        0.000327   \n",
              "4       0.115084      0.006234         0.007751        0.000232   \n",
              "5       0.123867      0.002894         0.008122        0.000253   \n",
              "6       0.129597      0.004985         0.008860        0.000801   \n",
              "7       0.139904      0.003851         0.010026        0.001192   \n",
              "8       0.147977      0.004241         0.009613        0.000348   \n",
              "9       0.143896      0.004665         0.009503        0.000802   \n",
              "\n",
              "  param_n_estimators                params  split0_test_score  \\\n",
              "0                 10  {'n_estimators': 10}           0.752270   \n",
              "1                 11  {'n_estimators': 11}           0.771077   \n",
              "2                 12  {'n_estimators': 12}           0.761349   \n",
              "3                 13  {'n_estimators': 13}           0.767185   \n",
              "4                 14  {'n_estimators': 14}           0.760700   \n",
              "5                 15  {'n_estimators': 15}           0.767185   \n",
              "6                 16  {'n_estimators': 16}           0.766537   \n",
              "7                 17  {'n_estimators': 17}           0.767834   \n",
              "8                 18  {'n_estimators': 18}           0.768482   \n",
              "9                 19  {'n_estimators': 19}           0.771725   \n",
              "\n",
              "   split1_test_score  split2_test_score  split3_test_score  ...  \\\n",
              "0           0.778066           0.880597           0.852044  ...   \n",
              "1           0.793640           0.875406           0.854640  ...   \n",
              "2           0.781311           0.879299           0.855289  ...   \n",
              "3           0.793640           0.876703           0.849448  ...   \n",
              "4           0.784555           0.881246           0.856587  ...   \n",
              "5           0.799481           0.878650           0.861778  ...   \n",
              "6           0.790396           0.890331           0.865672  ...   \n",
              "7           0.804672           0.885140           0.864374  ...   \n",
              "8           0.792343           0.890980           0.862427  ...   \n",
              "9           0.798832           0.884491           0.865023  ...   \n",
              "\n",
              "   mean_test_score  std_test_score  rank_test_score  split0_train_score  \\\n",
              "0         0.831311        0.056247               10            0.992051   \n",
              "1         0.837927        0.047660                6            0.992213   \n",
              "2         0.835463        0.054614                9            0.993348   \n",
              "3         0.836111        0.048337                8            0.993186   \n",
              "4         0.836760        0.054722                7            0.993835   \n",
              "5         0.840134        0.048543                5            0.994971   \n",
              "6         0.842989        0.054498                2            0.995133   \n",
              "7         0.843638        0.049349                1            0.995944   \n",
              "8         0.842600        0.052740                4            0.996106   \n",
              "9         0.842859        0.048706                3            0.997242   \n",
              "\n",
              "   split1_train_score  split2_train_score  split3_train_score  \\\n",
              "0            0.989619            0.988808            0.988808   \n",
              "1            0.992052            0.990430            0.990430   \n",
              "2            0.993187            0.990754            0.991565   \n",
              "3            0.994161            0.992376            0.992701   \n",
              "4            0.994323            0.992214            0.992539   \n",
              "5            0.995945            0.993187            0.993350   \n",
              "6            0.995458            0.993836            0.994161   \n",
              "7            0.996107            0.993512            0.995296   \n",
              "8            0.995458            0.994972            0.995620   \n",
              "9            0.996107            0.995296            0.995296   \n",
              "\n",
              "   split4_train_score  mean_train_score  std_train_score  \n",
              "0            0.987672          0.989391         0.001467  \n",
              "1            0.991079          0.991241         0.000767  \n",
              "2            0.991403          0.992052         0.001031  \n",
              "3            0.993187          0.993122         0.000603  \n",
              "4            0.993350          0.993252         0.000785  \n",
              "5            0.993836          0.994258         0.001049  \n",
              "6            0.994323          0.994582         0.000612  \n",
              "7            0.994809          0.995134         0.000935  \n",
              "8            0.995296          0.995491         0.000375  \n",
              "9            0.995134          0.995815         0.000790  \n",
              "\n",
              "[10 rows x 21 columns]"
            ],
            "text/html": [
              "\n",
              "  <div id=\"df-eb2e22bd-d3f0-447b-afe7-59db6ab64947\">\n",
              "    <div class=\"colab-df-container\">\n",
              "      <div>\n",
              "<style scoped>\n",
              "    .dataframe tbody tr th:only-of-type {\n",
              "        vertical-align: middle;\n",
              "    }\n",
              "\n",
              "    .dataframe tbody tr th {\n",
              "        vertical-align: top;\n",
              "    }\n",
              "\n",
              "    .dataframe thead th {\n",
              "        text-align: right;\n",
              "    }\n",
              "</style>\n",
              "<table border=\"1\" class=\"dataframe\">\n",
              "  <thead>\n",
              "    <tr style=\"text-align: right;\">\n",
              "      <th></th>\n",
              "      <th>mean_fit_time</th>\n",
              "      <th>std_fit_time</th>\n",
              "      <th>mean_score_time</th>\n",
              "      <th>std_score_time</th>\n",
              "      <th>param_n_estimators</th>\n",
              "      <th>params</th>\n",
              "      <th>split0_test_score</th>\n",
              "      <th>split1_test_score</th>\n",
              "      <th>split2_test_score</th>\n",
              "      <th>split3_test_score</th>\n",
              "      <th>...</th>\n",
              "      <th>mean_test_score</th>\n",
              "      <th>std_test_score</th>\n",
              "      <th>rank_test_score</th>\n",
              "      <th>split0_train_score</th>\n",
              "      <th>split1_train_score</th>\n",
              "      <th>split2_train_score</th>\n",
              "      <th>split3_train_score</th>\n",
              "      <th>split4_train_score</th>\n",
              "      <th>mean_train_score</th>\n",
              "      <th>std_train_score</th>\n",
              "    </tr>\n",
              "  </thead>\n",
              "  <tbody>\n",
              "    <tr>\n",
              "      <th>0</th>\n",
              "      <td>0.092603</td>\n",
              "      <td>0.012989</td>\n",
              "      <td>0.006874</td>\n",
              "      <td>0.000599</td>\n",
              "      <td>10</td>\n",
              "      <td>{'n_estimators': 10}</td>\n",
              "      <td>0.752270</td>\n",
              "      <td>0.778066</td>\n",
              "      <td>0.880597</td>\n",
              "      <td>0.852044</td>\n",
              "      <td>...</td>\n",
              "      <td>0.831311</td>\n",
              "      <td>0.056247</td>\n",
              "      <td>10</td>\n",
              "      <td>0.992051</td>\n",
              "      <td>0.989619</td>\n",
              "      <td>0.988808</td>\n",
              "      <td>0.988808</td>\n",
              "      <td>0.987672</td>\n",
              "      <td>0.989391</td>\n",
              "      <td>0.001467</td>\n",
              "    </tr>\n",
              "    <tr>\n",
              "      <th>1</th>\n",
              "      <td>0.094839</td>\n",
              "      <td>0.004466</td>\n",
              "      <td>0.006849</td>\n",
              "      <td>0.000418</td>\n",
              "      <td>11</td>\n",
              "      <td>{'n_estimators': 11}</td>\n",
              "      <td>0.771077</td>\n",
              "      <td>0.793640</td>\n",
              "      <td>0.875406</td>\n",
              "      <td>0.854640</td>\n",
              "      <td>...</td>\n",
              "      <td>0.837927</td>\n",
              "      <td>0.047660</td>\n",
              "      <td>6</td>\n",
              "      <td>0.992213</td>\n",
              "      <td>0.992052</td>\n",
              "      <td>0.990430</td>\n",
              "      <td>0.990430</td>\n",
              "      <td>0.991079</td>\n",
              "      <td>0.991241</td>\n",
              "      <td>0.000767</td>\n",
              "    </tr>\n",
              "    <tr>\n",
              "      <th>2</th>\n",
              "      <td>0.103376</td>\n",
              "      <td>0.005135</td>\n",
              "      <td>0.006822</td>\n",
              "      <td>0.000195</td>\n",
              "      <td>12</td>\n",
              "      <td>{'n_estimators': 12}</td>\n",
              "      <td>0.761349</td>\n",
              "      <td>0.781311</td>\n",
              "      <td>0.879299</td>\n",
              "      <td>0.855289</td>\n",
              "      <td>...</td>\n",
              "      <td>0.835463</td>\n",
              "      <td>0.054614</td>\n",
              "      <td>9</td>\n",
              "      <td>0.993348</td>\n",
              "      <td>0.993187</td>\n",
              "      <td>0.990754</td>\n",
              "      <td>0.991565</td>\n",
              "      <td>0.991403</td>\n",
              "      <td>0.992052</td>\n",
              "      <td>0.001031</td>\n",
              "    </tr>\n",
              "    <tr>\n",
              "      <th>3</th>\n",
              "      <td>0.103924</td>\n",
              "      <td>0.002840</td>\n",
              "      <td>0.007087</td>\n",
              "      <td>0.000327</td>\n",
              "      <td>13</td>\n",
              "      <td>{'n_estimators': 13}</td>\n",
              "      <td>0.767185</td>\n",
              "      <td>0.793640</td>\n",
              "      <td>0.876703</td>\n",
              "      <td>0.849448</td>\n",
              "      <td>...</td>\n",
              "      <td>0.836111</td>\n",
              "      <td>0.048337</td>\n",
              "      <td>8</td>\n",
              "      <td>0.993186</td>\n",
              "      <td>0.994161</td>\n",
              "      <td>0.992376</td>\n",
              "      <td>0.992701</td>\n",
              "      <td>0.993187</td>\n",
              "      <td>0.993122</td>\n",
              "      <td>0.000603</td>\n",
              "    </tr>\n",
              "    <tr>\n",
              "      <th>4</th>\n",
              "      <td>0.115084</td>\n",
              "      <td>0.006234</td>\n",
              "      <td>0.007751</td>\n",
              "      <td>0.000232</td>\n",
              "      <td>14</td>\n",
              "      <td>{'n_estimators': 14}</td>\n",
              "      <td>0.760700</td>\n",
              "      <td>0.784555</td>\n",
              "      <td>0.881246</td>\n",
              "      <td>0.856587</td>\n",
              "      <td>...</td>\n",
              "      <td>0.836760</td>\n",
              "      <td>0.054722</td>\n",
              "      <td>7</td>\n",
              "      <td>0.993835</td>\n",
              "      <td>0.994323</td>\n",
              "      <td>0.992214</td>\n",
              "      <td>0.992539</td>\n",
              "      <td>0.993350</td>\n",
              "      <td>0.993252</td>\n",
              "      <td>0.000785</td>\n",
              "    </tr>\n",
              "    <tr>\n",
              "      <th>5</th>\n",
              "      <td>0.123867</td>\n",
              "      <td>0.002894</td>\n",
              "      <td>0.008122</td>\n",
              "      <td>0.000253</td>\n",
              "      <td>15</td>\n",
              "      <td>{'n_estimators': 15}</td>\n",
              "      <td>0.767185</td>\n",
              "      <td>0.799481</td>\n",
              "      <td>0.878650</td>\n",
              "      <td>0.861778</td>\n",
              "      <td>...</td>\n",
              "      <td>0.840134</td>\n",
              "      <td>0.048543</td>\n",
              "      <td>5</td>\n",
              "      <td>0.994971</td>\n",
              "      <td>0.995945</td>\n",
              "      <td>0.993187</td>\n",
              "      <td>0.993350</td>\n",
              "      <td>0.993836</td>\n",
              "      <td>0.994258</td>\n",
              "      <td>0.001049</td>\n",
              "    </tr>\n",
              "    <tr>\n",
              "      <th>6</th>\n",
              "      <td>0.129597</td>\n",
              "      <td>0.004985</td>\n",
              "      <td>0.008860</td>\n",
              "      <td>0.000801</td>\n",
              "      <td>16</td>\n",
              "      <td>{'n_estimators': 16}</td>\n",
              "      <td>0.766537</td>\n",
              "      <td>0.790396</td>\n",
              "      <td>0.890331</td>\n",
              "      <td>0.865672</td>\n",
              "      <td>...</td>\n",
              "      <td>0.842989</td>\n",
              "      <td>0.054498</td>\n",
              "      <td>2</td>\n",
              "      <td>0.995133</td>\n",
              "      <td>0.995458</td>\n",
              "      <td>0.993836</td>\n",
              "      <td>0.994161</td>\n",
              "      <td>0.994323</td>\n",
              "      <td>0.994582</td>\n",
              "      <td>0.000612</td>\n",
              "    </tr>\n",
              "    <tr>\n",
              "      <th>7</th>\n",
              "      <td>0.139904</td>\n",
              "      <td>0.003851</td>\n",
              "      <td>0.010026</td>\n",
              "      <td>0.001192</td>\n",
              "      <td>17</td>\n",
              "      <td>{'n_estimators': 17}</td>\n",
              "      <td>0.767834</td>\n",
              "      <td>0.804672</td>\n",
              "      <td>0.885140</td>\n",
              "      <td>0.864374</td>\n",
              "      <td>...</td>\n",
              "      <td>0.843638</td>\n",
              "      <td>0.049349</td>\n",
              "      <td>1</td>\n",
              "      <td>0.995944</td>\n",
              "      <td>0.996107</td>\n",
              "      <td>0.993512</td>\n",
              "      <td>0.995296</td>\n",
              "      <td>0.994809</td>\n",
              "      <td>0.995134</td>\n",
              "      <td>0.000935</td>\n",
              "    </tr>\n",
              "    <tr>\n",
              "      <th>8</th>\n",
              "      <td>0.147977</td>\n",
              "      <td>0.004241</td>\n",
              "      <td>0.009613</td>\n",
              "      <td>0.000348</td>\n",
              "      <td>18</td>\n",
              "      <td>{'n_estimators': 18}</td>\n",
              "      <td>0.768482</td>\n",
              "      <td>0.792343</td>\n",
              "      <td>0.890980</td>\n",
              "      <td>0.862427</td>\n",
              "      <td>...</td>\n",
              "      <td>0.842600</td>\n",
              "      <td>0.052740</td>\n",
              "      <td>4</td>\n",
              "      <td>0.996106</td>\n",
              "      <td>0.995458</td>\n",
              "      <td>0.994972</td>\n",
              "      <td>0.995620</td>\n",
              "      <td>0.995296</td>\n",
              "      <td>0.995491</td>\n",
              "      <td>0.000375</td>\n",
              "    </tr>\n",
              "    <tr>\n",
              "      <th>9</th>\n",
              "      <td>0.143896</td>\n",
              "      <td>0.004665</td>\n",
              "      <td>0.009503</td>\n",
              "      <td>0.000802</td>\n",
              "      <td>19</td>\n",
              "      <td>{'n_estimators': 19}</td>\n",
              "      <td>0.771725</td>\n",
              "      <td>0.798832</td>\n",
              "      <td>0.884491</td>\n",
              "      <td>0.865023</td>\n",
              "      <td>...</td>\n",
              "      <td>0.842859</td>\n",
              "      <td>0.048706</td>\n",
              "      <td>3</td>\n",
              "      <td>0.997242</td>\n",
              "      <td>0.996107</td>\n",
              "      <td>0.995296</td>\n",
              "      <td>0.995296</td>\n",
              "      <td>0.995134</td>\n",
              "      <td>0.995815</td>\n",
              "      <td>0.000790</td>\n",
              "    </tr>\n",
              "  </tbody>\n",
              "</table>\n",
              "<p>10 rows × 21 columns</p>\n",
              "</div>\n",
              "      <button class=\"colab-df-convert\" onclick=\"convertToInteractive('df-eb2e22bd-d3f0-447b-afe7-59db6ab64947')\"\n",
              "              title=\"Convert this dataframe to an interactive table.\"\n",
              "              style=\"display:none;\">\n",
              "        \n",
              "  <svg xmlns=\"http://www.w3.org/2000/svg\" height=\"24px\"viewBox=\"0 0 24 24\"\n",
              "       width=\"24px\">\n",
              "    <path d=\"M0 0h24v24H0V0z\" fill=\"none\"/>\n",
              "    <path d=\"M18.56 5.44l.94 2.06.94-2.06 2.06-.94-2.06-.94-.94-2.06-.94 2.06-2.06.94zm-11 1L8.5 8.5l.94-2.06 2.06-.94-2.06-.94L8.5 2.5l-.94 2.06-2.06.94zm10 10l.94 2.06.94-2.06 2.06-.94-2.06-.94-.94-2.06-.94 2.06-2.06.94z\"/><path d=\"M17.41 7.96l-1.37-1.37c-.4-.4-.92-.59-1.43-.59-.52 0-1.04.2-1.43.59L10.3 9.45l-7.72 7.72c-.78.78-.78 2.05 0 2.83L4 21.41c.39.39.9.59 1.41.59.51 0 1.02-.2 1.41-.59l7.78-7.78 2.81-2.81c.8-.78.8-2.07 0-2.86zM5.41 20L4 18.59l7.72-7.72 1.47 1.35L5.41 20z\"/>\n",
              "  </svg>\n",
              "      </button>\n",
              "      \n",
              "  <style>\n",
              "    .colab-df-container {\n",
              "      display:flex;\n",
              "      flex-wrap:wrap;\n",
              "      gap: 12px;\n",
              "    }\n",
              "\n",
              "    .colab-df-convert {\n",
              "      background-color: #E8F0FE;\n",
              "      border: none;\n",
              "      border-radius: 50%;\n",
              "      cursor: pointer;\n",
              "      display: none;\n",
              "      fill: #1967D2;\n",
              "      height: 32px;\n",
              "      padding: 0 0 0 0;\n",
              "      width: 32px;\n",
              "    }\n",
              "\n",
              "    .colab-df-convert:hover {\n",
              "      background-color: #E2EBFA;\n",
              "      box-shadow: 0px 1px 2px rgba(60, 64, 67, 0.3), 0px 1px 3px 1px rgba(60, 64, 67, 0.15);\n",
              "      fill: #174EA6;\n",
              "    }\n",
              "\n",
              "    [theme=dark] .colab-df-convert {\n",
              "      background-color: #3B4455;\n",
              "      fill: #D2E3FC;\n",
              "    }\n",
              "\n",
              "    [theme=dark] .colab-df-convert:hover {\n",
              "      background-color: #434B5C;\n",
              "      box-shadow: 0px 1px 3px 1px rgba(0, 0, 0, 0.15);\n",
              "      filter: drop-shadow(0px 1px 2px rgba(0, 0, 0, 0.3));\n",
              "      fill: #FFFFFF;\n",
              "    }\n",
              "  </style>\n",
              "\n",
              "      <script>\n",
              "        const buttonEl =\n",
              "          document.querySelector('#df-eb2e22bd-d3f0-447b-afe7-59db6ab64947 button.colab-df-convert');\n",
              "        buttonEl.style.display =\n",
              "          google.colab.kernel.accessAllowed ? 'block' : 'none';\n",
              "\n",
              "        async function convertToInteractive(key) {\n",
              "          const element = document.querySelector('#df-eb2e22bd-d3f0-447b-afe7-59db6ab64947');\n",
              "          const dataTable =\n",
              "            await google.colab.kernel.invokeFunction('convertToInteractive',\n",
              "                                                     [key], {});\n",
              "          if (!dataTable) return;\n",
              "\n",
              "          const docLinkHtml = 'Like what you see? Visit the ' +\n",
              "            '<a target=\"_blank\" href=https://colab.research.google.com/notebooks/data_table.ipynb>data table notebook</a>'\n",
              "            + ' to learn more about interactive tables.';\n",
              "          element.innerHTML = '';\n",
              "          dataTable['output_type'] = 'display_data';\n",
              "          await google.colab.output.renderOutput(dataTable, element);\n",
              "          const docLink = document.createElement('div');\n",
              "          docLink.innerHTML = docLinkHtml;\n",
              "          element.appendChild(docLink);\n",
              "        }\n",
              "      </script>\n",
              "    </div>\n",
              "  </div>\n",
              "  "
            ]
          },
          "metadata": {},
          "execution_count": 160
        }
      ],
      "source": [
        "dfgcv = pd.DataFrame(gcv.cv_results_) #to diaply the reults of the above in the form of a data frame\n",
        "dfgcv"
      ]
    },
    {
      "cell_type": "markdown",
      "metadata": {
        "id": "r7eVbxEL4U1E"
      },
      "source": [
        "plotting the graph of the value of k,(no of splits) and the mean of the score for training and test data"
      ]
    },
    {
      "cell_type": "code",
      "execution_count": null,
      "metadata": {
        "colab": {
          "base_uri": "https://localhost:8080/",
          "height": 320
        },
        "id": "1wIhATQb4CP1",
        "outputId": "b43816d1-8aa8-4073-cac4-b50e82b60b3d"
      },
      "outputs": [
        {
          "output_type": "display_data",
          "data": {
            "text/plain": [
              "<Figure size 648x360 with 1 Axes>"
            ],
            "image/png": "[encoded data removed]"
          },
          "metadata": {
            "needs_background": "light"
          }
        }
      ],
      "source": [
        "plt.subplots(figsize = (9,5))\n",
        "plt.plot(dfgcv[\"param_n_estimators\"], dfgcv[\"mean_train_score\"], label = \"Training score\")\n",
        "plt.plot(dfgcv[\"param_n_estimators\"], dfgcv[\"mean_test_score\"], label = \"Test score\")\n",
        "plt.legend() #to display the label values\n",
        "plt.show()"
      ]
    },
    {
      "cell_type": "markdown",
      "metadata": {
        "id": "sQz4BSTN5td0"
      },
      "source": [
        "from graph we can see that accuracy score is high for values from 18 - 20, applying random classifier for n = 19, and 20"
      ]
    },
    {
      "cell_type": "code",
      "execution_count": null,
      "metadata": {
        "id": "9H1EGzI65tJv"
      },
      "outputs": [],
      "source": [
        "model_RFCL = RandomForestClassifier(n_estimators = 19, random_state = 2)\n",
        "model_RFCL.fit(x_train, y_train)\n",
        "RFCL_predict = model_RFCL.predict(x_test)\n",
        "RFCL_accuracy = accuracy_score(y_test, RFCL_predict)"
      ]
    },
    {
      "cell_type": "code",
      "execution_count": null,
      "metadata": {
        "colab": {
          "base_uri": "https://localhost:8080/"
        },
        "id": "osc5dJbX6Tpd",
        "outputId": "58eb1753-60e1-4a61-9535-b520abe98d50"
      },
      "outputs": [
        {
          "output_type": "stream",
          "name": "stdout",
          "text": [
            "Accuracy Score is  0.747870528109029\n",
            "Test Classification Report:\n",
            "               precision    recall  f1-score   support\n",
            "\n",
            "           0       0.75      1.00      0.86      1321\n",
            "           1       0.17      0.00      0.00       440\n",
            "\n",
            "    accuracy                           0.75      1761\n",
            "   macro avg       0.46      0.50      0.43      1761\n",
            "weighted avg       0.60      0.75      0.64      1761\n",
            "\n"
          ]
        }
      ],
      "source": [
        "print(\"Accuracy Score is \" , RFCL_accuracy)\n",
        "print ( \"Test Classification Report:\\n\" , classification_report ( y_test , RFCL_predict ) ) #to display each score"
      ]
    },
    {
      "cell_type": "code",
      "execution_count": null,
      "metadata": {
        "id": "gIDut9Q47Cw0"
      },
      "outputs": [],
      "source": [
        "model_RFCL2 = RandomForestClassifier(n_estimators = 20, random_state = 2)\n",
        "model_RFCL2.fit(x_train, y_train)\n",
        "RFCL2_predict = model_RFCL2.predict(x_test)\n",
        "RFCL2_accuracy = accuracy_score(y_test, RFCL2_predict)"
      ]
    },
    {
      "cell_type": "code",
      "execution_count": null,
      "metadata": {
        "id": "ecxTKyDZ7PJA",
        "colab": {
          "base_uri": "https://localhost:8080/"
        },
        "outputId": "54bb0da3-bc7e-4d16-ab93-ba9ae5decedb"
      },
      "outputs": [
        {
          "output_type": "stream",
          "name": "stdout",
          "text": [
            "Accuracy Score is  0.747870528109029\n",
            "Test Classification Report:\n",
            "               precision    recall  f1-score   support\n",
            "\n",
            "           0       0.75      1.00      0.86      1321\n",
            "           1       0.00      0.00      0.00       440\n",
            "\n",
            "    accuracy                           0.75      1761\n",
            "   macro avg       0.37      0.50      0.43      1761\n",
            "weighted avg       0.56      0.75      0.64      1761\n",
            "\n"
          ]
        }
      ],
      "source": [
        "print(\"Accuracy Score is \" , RFCL2_accuracy)\n",
        "print ( \"Test Classification Report:\\n\" , classification_report ( y_test , RFCL2_predict ) ) #to display each score"
      ]
    },
    {
      "cell_type": "markdown",
      "metadata": {
        "id": "e2-5Fvh07e2Q"
      },
      "source": [
        "From Above methods we can say that the k fold, with Logostic Regression, gives best performance score.\n",
        "and the best performing model is regularized decission tree\n",
        "Checking feature importance of best performing model\n",
        "\n"
      ]
    },
    {
      "cell_type": "code",
      "source": [
        "feauture_imp2 = pd.DataFrame(model_DT_pruned.feature_importances_, columns = [\"Feature Importance\"], index = x_train.columns)\n",
        "feauture_imp2"
      ],
      "metadata": {
        "colab": {
          "base_uri": "https://localhost:8080/",
          "height": 645
        },
        "id": "HIQ1CailG2QN",
        "outputId": "14f8cef7-a6d7-4481-8be4-be8ecd6a040d"
      },
      "execution_count": null,
      "outputs": [
        {
          "output_type": "execute_result",
          "data": {
            "text/plain": [
              "                  Feature Importance\n",
              "gender                      0.008084\n",
              "SeniorCitizen               0.004217\n",
              "Partner                     0.010076\n",
              "Dependents                  0.011465\n",
              "tenure                      0.097622\n",
              "PhoneService                0.006503\n",
              "MultipleLines               0.013337\n",
              "InternetService             0.050152\n",
              "OnlineSecurity              0.061110\n",
              "OnlineBackup                0.019532\n",
              "DeviceProtection            0.009276\n",
              "TechSupport                 0.019252\n",
              "StreamingTV                 0.005318\n",
              "StreamingMovies             0.004657\n",
              "Contract                    0.416394\n",
              "PaperlessBilling            0.013446\n",
              "PaymentMethod               0.053316\n",
              "MonthlyCharges              0.115405\n",
              "TotalCharges                0.080839"
            ],
            "text/html": [
              "\n",
              "  <div id=\"df-3ef238af-7c8c-4128-92b8-dd60b9492b15\">\n",
              "    <div class=\"colab-df-container\">\n",
              "      <div>\n",
              "<style scoped>\n",
              "    .dataframe tbody tr th:only-of-type {\n",
              "        vertical-align: middle;\n",
              "    }\n",
              "\n",
              "    .dataframe tbody tr th {\n",
              "        vertical-align: top;\n",
              "    }\n",
              "\n",
              "    .dataframe thead th {\n",
              "        text-align: right;\n",
              "    }\n",
              "</style>\n",
              "<table border=\"1\" class=\"dataframe\">\n",
              "  <thead>\n",
              "    <tr style=\"text-align: right;\">\n",
              "      <th></th>\n",
              "      <th>Feature Importance</th>\n",
              "    </tr>\n",
              "  </thead>\n",
              "  <tbody>\n",
              "    <tr>\n",
              "      <th>gender</th>\n",
              "      <td>0.008084</td>\n",
              "    </tr>\n",
              "    <tr>\n",
              "      <th>SeniorCitizen</th>\n",
              "      <td>0.004217</td>\n",
              "    </tr>\n",
              "    <tr>\n",
              "      <th>Partner</th>\n",
              "      <td>0.010076</td>\n",
              "    </tr>\n",
              "    <tr>\n",
              "      <th>Dependents</th>\n",
              "      <td>0.011465</td>\n",
              "    </tr>\n",
              "    <tr>\n",
              "      <th>tenure</th>\n",
              "      <td>0.097622</td>\n",
              "    </tr>\n",
              "    <tr>\n",
              "      <th>PhoneService</th>\n",
              "      <td>0.006503</td>\n",
              "    </tr>\n",
              "    <tr>\n",
              "      <th>MultipleLines</th>\n",
              "      <td>0.013337</td>\n",
              "    </tr>\n",
              "    <tr>\n",
              "      <th>InternetService</th>\n",
              "      <td>0.050152</td>\n",
              "    </tr>\n",
              "    <tr>\n",
              "      <th>OnlineSecurity</th>\n",
              "      <td>0.061110</td>\n",
              "    </tr>\n",
              "    <tr>\n",
              "      <th>OnlineBackup</th>\n",
              "      <td>0.019532</td>\n",
              "    </tr>\n",
              "    <tr>\n",
              "      <th>DeviceProtection</th>\n",
              "      <td>0.009276</td>\n",
              "    </tr>\n",
              "    <tr>\n",
              "      <th>TechSupport</th>\n",
              "      <td>0.019252</td>\n",
              "    </tr>\n",
              "    <tr>\n",
              "      <th>StreamingTV</th>\n",
              "      <td>0.005318</td>\n",
              "    </tr>\n",
              "    <tr>\n",
              "      <th>StreamingMovies</th>\n",
              "      <td>0.004657</td>\n",
              "    </tr>\n",
              "    <tr>\n",
              "      <th>Contract</th>\n",
              "      <td>0.416394</td>\n",
              "    </tr>\n",
              "    <tr>\n",
              "      <th>PaperlessBilling</th>\n",
              "      <td>0.013446</td>\n",
              "    </tr>\n",
              "    <tr>\n",
              "      <th>PaymentMethod</th>\n",
              "      <td>0.053316</td>\n",
              "    </tr>\n",
              "    <tr>\n",
              "      <th>MonthlyCharges</th>\n",
              "      <td>0.115405</td>\n",
              "    </tr>\n",
              "    <tr>\n",
              "      <th>TotalCharges</th>\n",
              "      <td>0.080839</td>\n",
              "    </tr>\n",
              "  </tbody>\n",
              "</table>\n",
              "</div>\n",
              "      <button class=\"colab-df-convert\" onclick=\"convertToInteractive('df-3ef238af-7c8c-4128-92b8-dd60b9492b15')\"\n",
              "              title=\"Convert this dataframe to an interactive table.\"\n",
              "              style=\"display:none;\">\n",
              "        \n",
              "  <svg xmlns=\"http://www.w3.org/2000/svg\" height=\"24px\"viewBox=\"0 0 24 24\"\n",
              "       width=\"24px\">\n",
              "    <path d=\"M0 0h24v24H0V0z\" fill=\"none\"/>\n",
              "    <path d=\"M18.56 5.44l.94 2.06.94-2.06 2.06-.94-2.06-.94-.94-2.06-.94 2.06-2.06.94zm-11 1L8.5 8.5l.94-2.06 2.06-.94-2.06-.94L8.5 2.5l-.94 2.06-2.06.94zm10 10l.94 2.06.94-2.06 2.06-.94-2.06-.94-.94-2.06-.94 2.06-2.06.94z\"/><path d=\"M17.41 7.96l-1.37-1.37c-.4-.4-.92-.59-1.43-.59-.52 0-1.04.2-1.43.59L10.3 9.45l-7.72 7.72c-.78.78-.78 2.05 0 2.83L4 21.41c.39.39.9.59 1.41.59.51 0 1.02-.2 1.41-.59l7.78-7.78 2.81-2.81c.8-.78.8-2.07 0-2.86zM5.41 20L4 18.59l7.72-7.72 1.47 1.35L5.41 20z\"/>\n",
              "  </svg>\n",
              "      </button>\n",
              "      \n",
              "  <style>\n",
              "    .colab-df-container {\n",
              "      display:flex;\n",
              "      flex-wrap:wrap;\n",
              "      gap: 12px;\n",
              "    }\n",
              "\n",
              "    .colab-df-convert {\n",
              "      background-color: #E8F0FE;\n",
              "      border: none;\n",
              "      border-radius: 50%;\n",
              "      cursor: pointer;\n",
              "      display: none;\n",
              "      fill: #1967D2;\n",
              "      height: 32px;\n",
              "      padding: 0 0 0 0;\n",
              "      width: 32px;\n",
              "    }\n",
              "\n",
              "    .colab-df-convert:hover {\n",
              "      background-color: #E2EBFA;\n",
              "      box-shadow: 0px 1px 2px rgba(60, 64, 67, 0.3), 0px 1px 3px 1px rgba(60, 64, 67, 0.15);\n",
              "      fill: #174EA6;\n",
              "    }\n",
              "\n",
              "    [theme=dark] .colab-df-convert {\n",
              "      background-color: #3B4455;\n",
              "      fill: #D2E3FC;\n",
              "    }\n",
              "\n",
              "    [theme=dark] .colab-df-convert:hover {\n",
              "      background-color: #434B5C;\n",
              "      box-shadow: 0px 1px 3px 1px rgba(0, 0, 0, 0.15);\n",
              "      filter: drop-shadow(0px 1px 2px rgba(0, 0, 0, 0.3));\n",
              "      fill: #FFFFFF;\n",
              "    }\n",
              "  </style>\n",
              "\n",
              "      <script>\n",
              "        const buttonEl =\n",
              "          document.querySelector('#df-3ef238af-7c8c-4128-92b8-dd60b9492b15 button.colab-df-convert');\n",
              "        buttonEl.style.display =\n",
              "          google.colab.kernel.accessAllowed ? 'block' : 'none';\n",
              "\n",
              "        async function convertToInteractive(key) {\n",
              "          const element = document.querySelector('#df-3ef238af-7c8c-4128-92b8-dd60b9492b15');\n",
              "          const dataTable =\n",
              "            await google.colab.kernel.invokeFunction('convertToInteractive',\n",
              "                                                     [key], {});\n",
              "          if (!dataTable) return;\n",
              "\n",
              "          const docLinkHtml = 'Like what you see? Visit the ' +\n",
              "            '<a target=\"_blank\" href=https://colab.research.google.com/notebooks/data_table.ipynb>data table notebook</a>'\n",
              "            + ' to learn more about interactive tables.';\n",
              "          element.innerHTML = '';\n",
              "          dataTable['output_type'] = 'display_data';\n",
              "          await google.colab.output.renderOutput(dataTable, element);\n",
              "          const docLink = document.createElement('div');\n",
              "          docLink.innerHTML = docLinkHtml;\n",
              "          element.appendChild(docLink);\n",
              "        }\n",
              "      </script>\n",
              "    </div>\n",
              "  </div>\n",
              "  "
            ]
          },
          "metadata": {},
          "execution_count": 167
        }
      ]
    },
    {
      "cell_type": "markdown",
      "source": [
        "features which have most impact are tenure, contract period, monthly charges, and total charges\n",
        "with Contract period having the maximum impact\n",
        "\n",
        "**Concusion:**\n",
        "We can advise the company to introduce more offers with two year, and annual contract, and drive the people towards two year, and annual contract, as people who belong to this category are less likely to churn when compared to the ones who have signed monthly contract"
      ],
      "metadata": {
        "id": "7hiHIOulH1SV"
      }
    }
  ],
  "metadata": {
    "colab": {
      "provenance": []
    },
    "kernelspec": {
      "display_name": "Python 3",
      "name": "python3"
    },
    "language_info": {
      "name": "python"
    }
  },
  "nbformat": 4,
  "nbformat_minor": 0
}